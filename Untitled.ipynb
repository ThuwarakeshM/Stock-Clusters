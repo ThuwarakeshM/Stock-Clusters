{
 "cells": [
  {
   "cell_type": "markdown",
   "metadata": {},
   "source": [
    "# S&P 500 Market Segmentation"
   ]
  },
  {
   "cell_type": "code",
   "execution_count": 34,
   "metadata": {},
   "outputs": [],
   "source": [
    "# Import Required Packages\n",
    "import pandas as pd\n",
    "import matplotlib.pyplot as plt\n",
    "%matplotlib inline"
   ]
  },
  {
   "cell_type": "markdown",
   "metadata": {},
   "source": [
    "## Data Preparation"
   ]
  },
  {
   "cell_type": "code",
   "execution_count": 35,
   "metadata": {},
   "outputs": [],
   "source": [
    "# Read the dataset, parsing dates\n",
    "df = pd.read_csv('data_quaterly.csv', index_col=0, parse_dates=['Date'])"
   ]
  },
  {
   "cell_type": "code",
   "execution_count": 36,
   "metadata": {},
   "outputs": [
    {
     "data": {
      "text/html": [
       "<div>\n",
       "<style scoped>\n",
       "    .dataframe tbody tr th:only-of-type {\n",
       "        vertical-align: middle;\n",
       "    }\n",
       "\n",
       "    .dataframe tbody tr th {\n",
       "        vertical-align: top;\n",
       "    }\n",
       "\n",
       "    .dataframe thead th {\n",
       "        text-align: right;\n",
       "    }\n",
       "</style>\n",
       "<table border=\"1\" class=\"dataframe\">\n",
       "  <thead>\n",
       "    <tr style=\"text-align: right;\">\n",
       "      <th></th>\n",
       "      <th>SNA</th>\n",
       "      <th>KO</th>\n",
       "      <th>WM</th>\n",
       "      <th>JEC</th>\n",
       "      <th>MRK</th>\n",
       "      <th>PSA</th>\n",
       "      <th>MYL</th>\n",
       "      <th>VTR</th>\n",
       "      <th>PH</th>\n",
       "      <th>NOV</th>\n",
       "      <th>...</th>\n",
       "      <th>GPS</th>\n",
       "      <th>CA</th>\n",
       "      <th>UNH</th>\n",
       "      <th>WMB</th>\n",
       "      <th>HCA</th>\n",
       "      <th>ETN</th>\n",
       "      <th>HOLX</th>\n",
       "      <th>ACN</th>\n",
       "      <th>CMCSA</th>\n",
       "      <th>AZO</th>\n",
       "    </tr>\n",
       "    <tr>\n",
       "      <th>Date</th>\n",
       "      <th></th>\n",
       "      <th></th>\n",
       "      <th></th>\n",
       "      <th></th>\n",
       "      <th></th>\n",
       "      <th></th>\n",
       "      <th></th>\n",
       "      <th></th>\n",
       "      <th></th>\n",
       "      <th></th>\n",
       "      <th></th>\n",
       "      <th></th>\n",
       "      <th></th>\n",
       "      <th></th>\n",
       "      <th></th>\n",
       "      <th></th>\n",
       "      <th></th>\n",
       "      <th></th>\n",
       "      <th></th>\n",
       "      <th></th>\n",
       "      <th></th>\n",
       "    </tr>\n",
       "  </thead>\n",
       "  <tbody>\n",
       "    <tr>\n",
       "      <th>2013-03-31</th>\n",
       "      <td>0.000506</td>\n",
       "      <td>0.001544</td>\n",
       "      <td>0.002299</td>\n",
       "      <td>0.004344</td>\n",
       "      <td>0.000662</td>\n",
       "      <td>0.000316</td>\n",
       "      <td>0.000773</td>\n",
       "      <td>0.002313</td>\n",
       "      <td>-0.000408</td>\n",
       "      <td>-0.000480</td>\n",
       "      <td>...</td>\n",
       "      <td>0.001643</td>\n",
       "      <td>0.000557</td>\n",
       "      <td>0.001071</td>\n",
       "      <td>0.001666</td>\n",
       "      <td>0.002107</td>\n",
       "      <td>0.001743</td>\n",
       "      <td>-0.000494</td>\n",
       "      <td>0.001766</td>\n",
       "      <td>0.000960</td>\n",
       "      <td>0.002755</td>\n",
       "    </tr>\n",
       "    <tr>\n",
       "      <th>2013-06-30</th>\n",
       "      <td>0.001359</td>\n",
       "      <td>-0.000060</td>\n",
       "      <td>0.000567</td>\n",
       "      <td>0.000077</td>\n",
       "      <td>0.000809</td>\n",
       "      <td>0.000086</td>\n",
       "      <td>0.001408</td>\n",
       "      <td>-0.000823</td>\n",
       "      <td>0.000753</td>\n",
       "      <td>-0.000177</td>\n",
       "      <td>...</td>\n",
       "      <td>0.003002</td>\n",
       "      <td>0.002275</td>\n",
       "      <td>0.002381</td>\n",
       "      <td>-0.002155</td>\n",
       "      <td>-0.001709</td>\n",
       "      <td>0.001467</td>\n",
       "      <td>-0.002474</td>\n",
       "      <td>-0.000587</td>\n",
       "      <td>-0.000042</td>\n",
       "      <td>0.001333</td>\n",
       "    </tr>\n",
       "    <tr>\n",
       "      <th>2013-09-30</th>\n",
       "      <td>0.001721</td>\n",
       "      <td>-0.000864</td>\n",
       "      <td>0.000384</td>\n",
       "      <td>0.000916</td>\n",
       "      <td>0.000400</td>\n",
       "      <td>0.000783</td>\n",
       "      <td>0.003341</td>\n",
       "      <td>-0.001787</td>\n",
       "      <td>0.002119</td>\n",
       "      <td>0.002010</td>\n",
       "      <td>...</td>\n",
       "      <td>-0.000498</td>\n",
       "      <td>0.000599</td>\n",
       "      <td>0.001473</td>\n",
       "      <td>0.001850</td>\n",
       "      <td>0.002775</td>\n",
       "      <td>0.000800</td>\n",
       "      <td>0.001222</td>\n",
       "      <td>0.000410</td>\n",
       "      <td>0.001304</td>\n",
       "      <td>0.000004</td>\n",
       "    </tr>\n",
       "    <tr>\n",
       "      <th>2013-12-31</th>\n",
       "      <td>0.001552</td>\n",
       "      <td>0.001385</td>\n",
       "      <td>0.001356</td>\n",
       "      <td>0.001329</td>\n",
       "      <td>0.000820</td>\n",
       "      <td>-0.000950</td>\n",
       "      <td>0.002111</td>\n",
       "      <td>-0.001028</td>\n",
       "      <td>0.002713</td>\n",
       "      <td>0.000343</td>\n",
       "      <td>...</td>\n",
       "      <td>-0.000311</td>\n",
       "      <td>0.002008</td>\n",
       "      <td>0.000871</td>\n",
       "      <td>0.001011</td>\n",
       "      <td>0.001835</td>\n",
       "      <td>0.001668</td>\n",
       "      <td>0.001410</td>\n",
       "      <td>0.001784</td>\n",
       "      <td>0.002272</td>\n",
       "      <td>0.001958</td>\n",
       "    </tr>\n",
       "    <tr>\n",
       "      <th>2014-03-31</th>\n",
       "      <td>0.000696</td>\n",
       "      <td>-0.001042</td>\n",
       "      <td>-0.001000</td>\n",
       "      <td>0.000199</td>\n",
       "      <td>0.002153</td>\n",
       "      <td>0.001878</td>\n",
       "      <td>0.002191</td>\n",
       "      <td>0.000986</td>\n",
       "      <td>-0.001071</td>\n",
       "      <td>-0.000279</td>\n",
       "      <td>...</td>\n",
       "      <td>0.000521</td>\n",
       "      <td>-0.001288</td>\n",
       "      <td>0.001477</td>\n",
       "      <td>0.000905</td>\n",
       "      <td>0.001669</td>\n",
       "      <td>-0.000124</td>\n",
       "      <td>-0.000539</td>\n",
       "      <td>-0.000420</td>\n",
       "      <td>-0.000528</td>\n",
       "      <td>0.001995</td>\n",
       "    </tr>\n",
       "  </tbody>\n",
       "</table>\n",
       "<p>5 rows × 481 columns</p>\n",
       "</div>"
      ],
      "text/plain": [
       "                 SNA        KO        WM       JEC       MRK       PSA  \\\n",
       "Date                                                                     \n",
       "2013-03-31  0.000506  0.001544  0.002299  0.004344  0.000662  0.000316   \n",
       "2013-06-30  0.001359 -0.000060  0.000567  0.000077  0.000809  0.000086   \n",
       "2013-09-30  0.001721 -0.000864  0.000384  0.000916  0.000400  0.000783   \n",
       "2013-12-31  0.001552  0.001385  0.001356  0.001329  0.000820 -0.000950   \n",
       "2014-03-31  0.000696 -0.001042 -0.001000  0.000199  0.002153  0.001878   \n",
       "\n",
       "                 MYL       VTR        PH       NOV    ...          GPS  \\\n",
       "Date                                                  ...                \n",
       "2013-03-31  0.000773  0.002313 -0.000408 -0.000480    ...     0.001643   \n",
       "2013-06-30  0.001408 -0.000823  0.000753 -0.000177    ...     0.003002   \n",
       "2013-09-30  0.003341 -0.001787  0.002119  0.002010    ...    -0.000498   \n",
       "2013-12-31  0.002111 -0.001028  0.002713  0.000343    ...    -0.000311   \n",
       "2014-03-31  0.002191  0.000986 -0.001071 -0.000279    ...     0.000521   \n",
       "\n",
       "                  CA       UNH       WMB       HCA       ETN      HOLX  \\\n",
       "Date                                                                     \n",
       "2013-03-31  0.000557  0.001071  0.001666  0.002107  0.001743 -0.000494   \n",
       "2013-06-30  0.002275  0.002381 -0.002155 -0.001709  0.001467 -0.002474   \n",
       "2013-09-30  0.000599  0.001473  0.001850  0.002775  0.000800  0.001222   \n",
       "2013-12-31  0.002008  0.000871  0.001011  0.001835  0.001668  0.001410   \n",
       "2014-03-31 -0.001288  0.001477  0.000905  0.001669 -0.000124 -0.000539   \n",
       "\n",
       "                 ACN     CMCSA       AZO  \n",
       "Date                                      \n",
       "2013-03-31  0.001766  0.000960  0.002755  \n",
       "2013-06-30 -0.000587 -0.000042  0.001333  \n",
       "2013-09-30  0.000410  0.001304  0.000004  \n",
       "2013-12-31  0.001784  0.002272  0.001958  \n",
       "2014-03-31 -0.000420 -0.000528  0.001995  \n",
       "\n",
       "[5 rows x 481 columns]"
      ]
     },
     "execution_count": 36,
     "metadata": {},
     "output_type": "execute_result"
    }
   ],
   "source": [
    "df.head() #Head Check"
   ]
  },
  {
   "cell_type": "code",
   "execution_count": 6,
   "metadata": {},
   "outputs": [
    {
     "data": {
      "text/html": [
       "<div>\n",
       "<style scoped>\n",
       "    .dataframe tbody tr th:only-of-type {\n",
       "        vertical-align: middle;\n",
       "    }\n",
       "\n",
       "    .dataframe tbody tr th {\n",
       "        vertical-align: top;\n",
       "    }\n",
       "\n",
       "    .dataframe thead th {\n",
       "        text-align: right;\n",
       "    }\n",
       "</style>\n",
       "<table border=\"1\" class=\"dataframe\">\n",
       "  <thead>\n",
       "    <tr style=\"text-align: right;\">\n",
       "      <th></th>\n",
       "      <th>SNA</th>\n",
       "      <th>KO</th>\n",
       "      <th>WM</th>\n",
       "      <th>HLT</th>\n",
       "      <th>JEC</th>\n",
       "      <th>MRK</th>\n",
       "      <th>PSA</th>\n",
       "      <th>MYL</th>\n",
       "      <th>VTR</th>\n",
       "      <th>PH</th>\n",
       "      <th>...</th>\n",
       "      <th>GPS</th>\n",
       "      <th>CA</th>\n",
       "      <th>UNH</th>\n",
       "      <th>WMB</th>\n",
       "      <th>HCA</th>\n",
       "      <th>ETN</th>\n",
       "      <th>HOLX</th>\n",
       "      <th>ACN</th>\n",
       "      <th>CMCSA</th>\n",
       "      <th>AZO</th>\n",
       "    </tr>\n",
       "  </thead>\n",
       "  <tbody>\n",
       "    <tr>\n",
       "      <th>count</th>\n",
       "      <td>1259.000000</td>\n",
       "      <td>1259.000000</td>\n",
       "      <td>1259.000000</td>\n",
       "      <td>979.000000</td>\n",
       "      <td>1259.000000</td>\n",
       "      <td>1259.000000</td>\n",
       "      <td>1259.000000</td>\n",
       "      <td>1259.000000</td>\n",
       "      <td>1259.000000</td>\n",
       "      <td>1259.000000</td>\n",
       "      <td>...</td>\n",
       "      <td>1259.000000</td>\n",
       "      <td>1259.000000</td>\n",
       "      <td>1259.000000</td>\n",
       "      <td>1259.000000</td>\n",
       "      <td>1259.000000</td>\n",
       "      <td>1259.000000</td>\n",
       "      <td>1259.000000</td>\n",
       "      <td>1259.000000</td>\n",
       "      <td>1259.000000</td>\n",
       "      <td>1259.000000</td>\n",
       "    </tr>\n",
       "    <tr>\n",
       "      <th>mean</th>\n",
       "      <td>0.000626</td>\n",
       "      <td>0.000201</td>\n",
       "      <td>0.000753</td>\n",
       "      <td>0.000613</td>\n",
       "      <td>0.000420</td>\n",
       "      <td>0.000220</td>\n",
       "      <td>0.000371</td>\n",
       "      <td>0.000505</td>\n",
       "      <td>-0.000001</td>\n",
       "      <td>0.000737</td>\n",
       "      <td>...</td>\n",
       "      <td>-0.000050</td>\n",
       "      <td>0.000359</td>\n",
       "      <td>0.001115</td>\n",
       "      <td>0.000315</td>\n",
       "      <td>0.000888</td>\n",
       "      <td>0.000496</td>\n",
       "      <td>0.000591</td>\n",
       "      <td>0.000651</td>\n",
       "      <td>0.000589</td>\n",
       "      <td>0.000419</td>\n",
       "    </tr>\n",
       "    <tr>\n",
       "      <th>std</th>\n",
       "      <td>0.012274</td>\n",
       "      <td>0.008828</td>\n",
       "      <td>0.008739</td>\n",
       "      <td>0.014567</td>\n",
       "      <td>0.014859</td>\n",
       "      <td>0.012068</td>\n",
       "      <td>0.011120</td>\n",
       "      <td>0.021199</td>\n",
       "      <td>0.014458</td>\n",
       "      <td>0.013575</td>\n",
       "      <td>...</td>\n",
       "      <td>0.019916</td>\n",
       "      <td>0.012598</td>\n",
       "      <td>0.012646</td>\n",
       "      <td>0.029544</td>\n",
       "      <td>0.016792</td>\n",
       "      <td>0.014228</td>\n",
       "      <td>0.015302</td>\n",
       "      <td>0.011839</td>\n",
       "      <td>0.011822</td>\n",
       "      <td>0.012363</td>\n",
       "    </tr>\n",
       "    <tr>\n",
       "      <th>min</th>\n",
       "      <td>-0.073877</td>\n",
       "      <td>-0.060291</td>\n",
       "      <td>-0.049362</td>\n",
       "      <td>-0.067435</td>\n",
       "      <td>-0.082476</td>\n",
       "      <td>-0.060611</td>\n",
       "      <td>-0.056079</td>\n",
       "      <td>-0.180451</td>\n",
       "      <td>-0.235743</td>\n",
       "      <td>-0.071046</td>\n",
       "      <td>...</td>\n",
       "      <td>-0.166070</td>\n",
       "      <td>-0.102453</td>\n",
       "      <td>-0.056461</td>\n",
       "      <td>-0.348131</td>\n",
       "      <td>-0.107814</td>\n",
       "      <td>-0.081303</td>\n",
       "      <td>-0.104367</td>\n",
       "      <td>-0.102967</td>\n",
       "      <td>-0.062424</td>\n",
       "      <td>-0.118410</td>\n",
       "    </tr>\n",
       "    <tr>\n",
       "      <th>25%</th>\n",
       "      <td>-0.005960</td>\n",
       "      <td>-0.004278</td>\n",
       "      <td>-0.003884</td>\n",
       "      <td>-0.007320</td>\n",
       "      <td>-0.007934</td>\n",
       "      <td>-0.006012</td>\n",
       "      <td>-0.006249</td>\n",
       "      <td>-0.010317</td>\n",
       "      <td>-0.006020</td>\n",
       "      <td>-0.006471</td>\n",
       "      <td>...</td>\n",
       "      <td>-0.009558</td>\n",
       "      <td>-0.006265</td>\n",
       "      <td>-0.005728</td>\n",
       "      <td>-0.009874</td>\n",
       "      <td>-0.007972</td>\n",
       "      <td>-0.007181</td>\n",
       "      <td>-0.007087</td>\n",
       "      <td>-0.005411</td>\n",
       "      <td>-0.006180</td>\n",
       "      <td>-0.006056</td>\n",
       "    </tr>\n",
       "    <tr>\n",
       "      <th>50%</th>\n",
       "      <td>0.000644</td>\n",
       "      <td>0.000240</td>\n",
       "      <td>0.000857</td>\n",
       "      <td>0.000503</td>\n",
       "      <td>0.000732</td>\n",
       "      <td>0.000158</td>\n",
       "      <td>0.000655</td>\n",
       "      <td>0.000875</td>\n",
       "      <td>0.001075</td>\n",
       "      <td>0.000632</td>\n",
       "      <td>...</td>\n",
       "      <td>0.000755</td>\n",
       "      <td>0.000912</td>\n",
       "      <td>0.000810</td>\n",
       "      <td>0.000318</td>\n",
       "      <td>0.000617</td>\n",
       "      <td>0.000442</td>\n",
       "      <td>0.001289</td>\n",
       "      <td>0.000888</td>\n",
       "      <td>0.000915</td>\n",
       "      <td>0.000256</td>\n",
       "    </tr>\n",
       "    <tr>\n",
       "      <th>75%</th>\n",
       "      <td>0.007434</td>\n",
       "      <td>0.004949</td>\n",
       "      <td>0.005704</td>\n",
       "      <td>0.008991</td>\n",
       "      <td>0.008987</td>\n",
       "      <td>0.006659</td>\n",
       "      <td>0.006790</td>\n",
       "      <td>0.010263</td>\n",
       "      <td>0.007642</td>\n",
       "      <td>0.007756</td>\n",
       "      <td>...</td>\n",
       "      <td>0.009176</td>\n",
       "      <td>0.007096</td>\n",
       "      <td>0.007665</td>\n",
       "      <td>0.010076</td>\n",
       "      <td>0.009703</td>\n",
       "      <td>0.008547</td>\n",
       "      <td>0.008465</td>\n",
       "      <td>0.006817</td>\n",
       "      <td>0.007336</td>\n",
       "      <td>0.006928</td>\n",
       "    </tr>\n",
       "    <tr>\n",
       "      <th>max</th>\n",
       "      <td>0.077593</td>\n",
       "      <td>0.056872</td>\n",
       "      <td>0.051667</td>\n",
       "      <td>0.061424</td>\n",
       "      <td>0.098420</td>\n",
       "      <td>0.104080</td>\n",
       "      <td>0.044721</td>\n",
       "      <td>0.162004</td>\n",
       "      <td>0.050116</td>\n",
       "      <td>0.066428</td>\n",
       "      <td>...</td>\n",
       "      <td>0.152327</td>\n",
       "      <td>0.133629</td>\n",
       "      <td>0.069037</td>\n",
       "      <td>0.343865</td>\n",
       "      <td>0.104691</td>\n",
       "      <td>0.083696</td>\n",
       "      <td>0.085128</td>\n",
       "      <td>0.067566</td>\n",
       "      <td>0.059535</td>\n",
       "      <td>0.061233</td>\n",
       "    </tr>\n",
       "  </tbody>\n",
       "</table>\n",
       "<p>8 rows × 502 columns</p>\n",
       "</div>"
      ],
      "text/plain": [
       "               SNA           KO           WM         HLT          JEC  \\\n",
       "count  1259.000000  1259.000000  1259.000000  979.000000  1259.000000   \n",
       "mean      0.000626     0.000201     0.000753    0.000613     0.000420   \n",
       "std       0.012274     0.008828     0.008739    0.014567     0.014859   \n",
       "min      -0.073877    -0.060291    -0.049362   -0.067435    -0.082476   \n",
       "25%      -0.005960    -0.004278    -0.003884   -0.007320    -0.007934   \n",
       "50%       0.000644     0.000240     0.000857    0.000503     0.000732   \n",
       "75%       0.007434     0.004949     0.005704    0.008991     0.008987   \n",
       "max       0.077593     0.056872     0.051667    0.061424     0.098420   \n",
       "\n",
       "               MRK          PSA          MYL          VTR           PH  \\\n",
       "count  1259.000000  1259.000000  1259.000000  1259.000000  1259.000000   \n",
       "mean      0.000220     0.000371     0.000505    -0.000001     0.000737   \n",
       "std       0.012068     0.011120     0.021199     0.014458     0.013575   \n",
       "min      -0.060611    -0.056079    -0.180451    -0.235743    -0.071046   \n",
       "25%      -0.006012    -0.006249    -0.010317    -0.006020    -0.006471   \n",
       "50%       0.000158     0.000655     0.000875     0.001075     0.000632   \n",
       "75%       0.006659     0.006790     0.010263     0.007642     0.007756   \n",
       "max       0.104080     0.044721     0.162004     0.050116     0.066428   \n",
       "\n",
       "          ...               GPS           CA          UNH          WMB  \\\n",
       "count     ...       1259.000000  1259.000000  1259.000000  1259.000000   \n",
       "mean      ...         -0.000050     0.000359     0.001115     0.000315   \n",
       "std       ...          0.019916     0.012598     0.012646     0.029544   \n",
       "min       ...         -0.166070    -0.102453    -0.056461    -0.348131   \n",
       "25%       ...         -0.009558    -0.006265    -0.005728    -0.009874   \n",
       "50%       ...          0.000755     0.000912     0.000810     0.000318   \n",
       "75%       ...          0.009176     0.007096     0.007665     0.010076   \n",
       "max       ...          0.152327     0.133629     0.069037     0.343865   \n",
       "\n",
       "               HCA          ETN         HOLX          ACN        CMCSA  \\\n",
       "count  1259.000000  1259.000000  1259.000000  1259.000000  1259.000000   \n",
       "mean      0.000888     0.000496     0.000591     0.000651     0.000589   \n",
       "std       0.016792     0.014228     0.015302     0.011839     0.011822   \n",
       "min      -0.107814    -0.081303    -0.104367    -0.102967    -0.062424   \n",
       "25%      -0.007972    -0.007181    -0.007087    -0.005411    -0.006180   \n",
       "50%       0.000617     0.000442     0.001289     0.000888     0.000915   \n",
       "75%       0.009703     0.008547     0.008465     0.006817     0.007336   \n",
       "max       0.104691     0.083696     0.085128     0.067566     0.059535   \n",
       "\n",
       "               AZO  \n",
       "count  1259.000000  \n",
       "mean      0.000419  \n",
       "std       0.012363  \n",
       "min      -0.118410  \n",
       "25%      -0.006056  \n",
       "50%       0.000256  \n",
       "75%       0.006928  \n",
       "max       0.061233  \n",
       "\n",
       "[8 rows x 502 columns]"
      ]
     },
     "execution_count": 6,
     "metadata": {},
     "output_type": "execute_result"
    }
   ],
   "source": [
    "df.describe() # Description of the dataset"
   ]
  },
  {
   "cell_type": "raw",
   "metadata": {},
   "source": [
    "Some of the Columns do not have complete data\n",
    "In the next step we remove the incomplete data columns (Excluding some newer companies)"
   ]
  },
  {
   "cell_type": "code",
   "execution_count": 37,
   "metadata": {},
   "outputs": [
    {
     "data": {
      "text/plain": [
       "AZO      0\n",
       "ZBH      0\n",
       "XEL      0\n",
       "DTE      0\n",
       "MHK      0\n",
       "PRU      0\n",
       "JWN      0\n",
       "YUM      0\n",
       "ULTA     0\n",
       "SPG      0\n",
       "MTB      0\n",
       "NFX      0\n",
       "ESRX     0\n",
       "SRCL     0\n",
       "SBAC     0\n",
       "CBG      0\n",
       "NBL      0\n",
       "GGP      0\n",
       "CXO      0\n",
       "SBUX     0\n",
       "REG      0\n",
       "NLSN     0\n",
       "BCR      0\n",
       "ETR      0\n",
       "NKE      0\n",
       "WFC      0\n",
       "WLTW     0\n",
       "LEN      0\n",
       "SYMC     0\n",
       "CMA      0\n",
       "        ..\n",
       "GWW      0\n",
       "C        0\n",
       "DLR      0\n",
       "LLY      0\n",
       "AET      0\n",
       "TXN      0\n",
       "MMC      0\n",
       "HSIC     0\n",
       "CTL      0\n",
       "JPM      0\n",
       "PVH      0\n",
       "IR       0\n",
       "MKC      0\n",
       "GLW      0\n",
       "MCK      0\n",
       "RSG      0\n",
       "AES      0\n",
       "FIS      0\n",
       "ADM      0\n",
       "ECL      0\n",
       "A        0\n",
       "GOOGL    0\n",
       "AWK      0\n",
       "LYB      0\n",
       "VMC      0\n",
       "ALXN     0\n",
       "HD       0\n",
       "FTI      0\n",
       "D        0\n",
       "SNA      0\n",
       "Length: 481, dtype: int64"
      ]
     },
     "execution_count": 37,
     "metadata": {},
     "output_type": "execute_result"
    }
   ],
   "source": [
    "# Check for number of companies with larger missing values \n",
    "df.apply(lambda x: sum(x.isna())).sort_values(ascending=False) "
   ]
  },
  {
   "cell_type": "code",
   "execution_count": 8,
   "metadata": {},
   "outputs": [],
   "source": [
    "# Removing 22 Companies with larger missing values\n",
    "df = df[list(df.apply(lambda x: sum(x.isna())).sort_values(ascending=False)[23:].index)]"
   ]
  },
  {
   "cell_type": "code",
   "execution_count": 9,
   "metadata": {},
   "outputs": [],
   "source": [
    "df = df.dropna() # Removing na values in data"
   ]
  },
  {
   "cell_type": "code",
   "execution_count": 10,
   "metadata": {},
   "outputs": [
    {
     "data": {
      "text/html": [
       "<div>\n",
       "<style scoped>\n",
       "    .dataframe tbody tr th:only-of-type {\n",
       "        vertical-align: middle;\n",
       "    }\n",
       "\n",
       "    .dataframe tbody tr th {\n",
       "        vertical-align: top;\n",
       "    }\n",
       "\n",
       "    .dataframe thead th {\n",
       "        text-align: right;\n",
       "    }\n",
       "</style>\n",
       "<table border=\"1\" class=\"dataframe\">\n",
       "  <thead>\n",
       "    <tr style=\"text-align: right;\">\n",
       "      <th></th>\n",
       "      <th>SNI</th>\n",
       "      <th>COP</th>\n",
       "      <th>CHD</th>\n",
       "      <th>MCO</th>\n",
       "      <th>AOS</th>\n",
       "      <th>TIF</th>\n",
       "      <th>BBY</th>\n",
       "      <th>JPM</th>\n",
       "      <th>NLSN</th>\n",
       "      <th>DHI</th>\n",
       "      <th>...</th>\n",
       "      <th>DLR</th>\n",
       "      <th>RSG</th>\n",
       "      <th>FIS</th>\n",
       "      <th>ADM</th>\n",
       "      <th>ECL</th>\n",
       "      <th>A</th>\n",
       "      <th>GOOGL</th>\n",
       "      <th>AWK</th>\n",
       "      <th>LYB</th>\n",
       "      <th>SNA</th>\n",
       "    </tr>\n",
       "  </thead>\n",
       "  <tbody>\n",
       "    <tr>\n",
       "      <th>count</th>\n",
       "      <td>1248.000000</td>\n",
       "      <td>1248.000000</td>\n",
       "      <td>1248.000000</td>\n",
       "      <td>1248.000000</td>\n",
       "      <td>1248.000000</td>\n",
       "      <td>1248.000000</td>\n",
       "      <td>1248.000000</td>\n",
       "      <td>1248.000000</td>\n",
       "      <td>1248.000000</td>\n",
       "      <td>1248.000000</td>\n",
       "      <td>...</td>\n",
       "      <td>1248.000000</td>\n",
       "      <td>1248.000000</td>\n",
       "      <td>1248.000000</td>\n",
       "      <td>1248.000000</td>\n",
       "      <td>1248.000000</td>\n",
       "      <td>1248.000000</td>\n",
       "      <td>1248.000000</td>\n",
       "      <td>1248.000000</td>\n",
       "      <td>1248.000000</td>\n",
       "      <td>1248.000000</td>\n",
       "    </tr>\n",
       "    <tr>\n",
       "      <th>mean</th>\n",
       "      <td>0.000354</td>\n",
       "      <td>0.000124</td>\n",
       "      <td>0.000553</td>\n",
       "      <td>0.000983</td>\n",
       "      <td>0.001206</td>\n",
       "      <td>0.000440</td>\n",
       "      <td>0.001442</td>\n",
       "      <td>0.000776</td>\n",
       "      <td>0.000347</td>\n",
       "      <td>0.000802</td>\n",
       "      <td>...</td>\n",
       "      <td>0.000695</td>\n",
       "      <td>0.000744</td>\n",
       "      <td>0.000901</td>\n",
       "      <td>0.000402</td>\n",
       "      <td>0.000585</td>\n",
       "      <td>0.000861</td>\n",
       "      <td>0.001045</td>\n",
       "      <td>0.000785</td>\n",
       "      <td>0.000749</td>\n",
       "      <td>0.000664</td>\n",
       "    </tr>\n",
       "    <tr>\n",
       "      <th>std</th>\n",
       "      <td>0.014624</td>\n",
       "      <td>0.017857</td>\n",
       "      <td>0.009630</td>\n",
       "      <td>0.014305</td>\n",
       "      <td>0.014079</td>\n",
       "      <td>0.015650</td>\n",
       "      <td>0.026575</td>\n",
       "      <td>0.012842</td>\n",
       "      <td>0.013311</td>\n",
       "      <td>0.019623</td>\n",
       "      <td>...</td>\n",
       "      <td>0.014387</td>\n",
       "      <td>0.008852</td>\n",
       "      <td>0.012030</td>\n",
       "      <td>0.014257</td>\n",
       "      <td>0.010890</td>\n",
       "      <td>0.013731</td>\n",
       "      <td>0.013829</td>\n",
       "      <td>0.010091</td>\n",
       "      <td>0.017738</td>\n",
       "      <td>0.012249</td>\n",
       "    </tr>\n",
       "    <tr>\n",
       "      <th>min</th>\n",
       "      <td>-0.075941</td>\n",
       "      <td>-0.092116</td>\n",
       "      <td>-0.066243</td>\n",
       "      <td>-0.106594</td>\n",
       "      <td>-0.078629</td>\n",
       "      <td>-0.139584</td>\n",
       "      <td>-0.285866</td>\n",
       "      <td>-0.069477</td>\n",
       "      <td>-0.168942</td>\n",
       "      <td>-0.115323</td>\n",
       "      <td>...</td>\n",
       "      <td>-0.152680</td>\n",
       "      <td>-0.064641</td>\n",
       "      <td>-0.122857</td>\n",
       "      <td>-0.088782</td>\n",
       "      <td>-0.073550</td>\n",
       "      <td>-0.080393</td>\n",
       "      <td>-0.054141</td>\n",
       "      <td>-0.047612</td>\n",
       "      <td>-0.119276</td>\n",
       "      <td>-0.073877</td>\n",
       "    </tr>\n",
       "    <tr>\n",
       "      <th>25%</th>\n",
       "      <td>-0.006850</td>\n",
       "      <td>-0.008979</td>\n",
       "      <td>-0.004543</td>\n",
       "      <td>-0.005703</td>\n",
       "      <td>-0.006241</td>\n",
       "      <td>-0.008080</td>\n",
       "      <td>-0.009608</td>\n",
       "      <td>-0.005685</td>\n",
       "      <td>-0.006576</td>\n",
       "      <td>-0.009580</td>\n",
       "      <td>...</td>\n",
       "      <td>-0.006107</td>\n",
       "      <td>-0.003807</td>\n",
       "      <td>-0.004841</td>\n",
       "      <td>-0.006783</td>\n",
       "      <td>-0.005013</td>\n",
       "      <td>-0.006758</td>\n",
       "      <td>-0.005744</td>\n",
       "      <td>-0.004761</td>\n",
       "      <td>-0.008164</td>\n",
       "      <td>-0.005912</td>\n",
       "    </tr>\n",
       "    <tr>\n",
       "      <th>50%</th>\n",
       "      <td>0.000353</td>\n",
       "      <td>0.000000</td>\n",
       "      <td>0.000802</td>\n",
       "      <td>0.001253</td>\n",
       "      <td>0.001375</td>\n",
       "      <td>0.000755</td>\n",
       "      <td>0.001182</td>\n",
       "      <td>0.000640</td>\n",
       "      <td>0.000000</td>\n",
       "      <td>0.000402</td>\n",
       "      <td>...</td>\n",
       "      <td>0.001363</td>\n",
       "      <td>0.000872</td>\n",
       "      <td>0.001095</td>\n",
       "      <td>0.000828</td>\n",
       "      <td>0.000752</td>\n",
       "      <td>0.000690</td>\n",
       "      <td>0.000577</td>\n",
       "      <td>0.001261</td>\n",
       "      <td>0.000943</td>\n",
       "      <td>0.000653</td>\n",
       "    </tr>\n",
       "    <tr>\n",
       "      <th>75%</th>\n",
       "      <td>0.007207</td>\n",
       "      <td>0.008478</td>\n",
       "      <td>0.006221</td>\n",
       "      <td>0.008200</td>\n",
       "      <td>0.008719</td>\n",
       "      <td>0.008976</td>\n",
       "      <td>0.013343</td>\n",
       "      <td>0.007654</td>\n",
       "      <td>0.007680</td>\n",
       "      <td>0.011225</td>\n",
       "      <td>...</td>\n",
       "      <td>0.009016</td>\n",
       "      <td>0.005933</td>\n",
       "      <td>0.007048</td>\n",
       "      <td>0.008231</td>\n",
       "      <td>0.006623</td>\n",
       "      <td>0.008903</td>\n",
       "      <td>0.007725</td>\n",
       "      <td>0.006987</td>\n",
       "      <td>0.010598</td>\n",
       "      <td>0.007427</td>\n",
       "    </tr>\n",
       "    <tr>\n",
       "      <th>max</th>\n",
       "      <td>0.147270</td>\n",
       "      <td>0.096993</td>\n",
       "      <td>0.043077</td>\n",
       "      <td>0.082910</td>\n",
       "      <td>0.077005</td>\n",
       "      <td>0.105343</td>\n",
       "      <td>0.214796</td>\n",
       "      <td>0.083286</td>\n",
       "      <td>0.061918</td>\n",
       "      <td>0.117785</td>\n",
       "      <td>...</td>\n",
       "      <td>0.054367</td>\n",
       "      <td>0.048008</td>\n",
       "      <td>0.087291</td>\n",
       "      <td>0.054821</td>\n",
       "      <td>0.049636</td>\n",
       "      <td>0.086862</td>\n",
       "      <td>0.162584</td>\n",
       "      <td>0.052986</td>\n",
       "      <td>0.078834</td>\n",
       "      <td>0.077593</td>\n",
       "    </tr>\n",
       "  </tbody>\n",
       "</table>\n",
       "<p>8 rows × 479 columns</p>\n",
       "</div>"
      ],
      "text/plain": [
       "               SNI          COP          CHD          MCO          AOS  \\\n",
       "count  1248.000000  1248.000000  1248.000000  1248.000000  1248.000000   \n",
       "mean      0.000354     0.000124     0.000553     0.000983     0.001206   \n",
       "std       0.014624     0.017857     0.009630     0.014305     0.014079   \n",
       "min      -0.075941    -0.092116    -0.066243    -0.106594    -0.078629   \n",
       "25%      -0.006850    -0.008979    -0.004543    -0.005703    -0.006241   \n",
       "50%       0.000353     0.000000     0.000802     0.001253     0.001375   \n",
       "75%       0.007207     0.008478     0.006221     0.008200     0.008719   \n",
       "max       0.147270     0.096993     0.043077     0.082910     0.077005   \n",
       "\n",
       "               TIF          BBY          JPM         NLSN          DHI  \\\n",
       "count  1248.000000  1248.000000  1248.000000  1248.000000  1248.000000   \n",
       "mean      0.000440     0.001442     0.000776     0.000347     0.000802   \n",
       "std       0.015650     0.026575     0.012842     0.013311     0.019623   \n",
       "min      -0.139584    -0.285866    -0.069477    -0.168942    -0.115323   \n",
       "25%      -0.008080    -0.009608    -0.005685    -0.006576    -0.009580   \n",
       "50%       0.000755     0.001182     0.000640     0.000000     0.000402   \n",
       "75%       0.008976     0.013343     0.007654     0.007680     0.011225   \n",
       "max       0.105343     0.214796     0.083286     0.061918     0.117785   \n",
       "\n",
       "          ...               DLR          RSG          FIS          ADM  \\\n",
       "count     ...       1248.000000  1248.000000  1248.000000  1248.000000   \n",
       "mean      ...          0.000695     0.000744     0.000901     0.000402   \n",
       "std       ...          0.014387     0.008852     0.012030     0.014257   \n",
       "min       ...         -0.152680    -0.064641    -0.122857    -0.088782   \n",
       "25%       ...         -0.006107    -0.003807    -0.004841    -0.006783   \n",
       "50%       ...          0.001363     0.000872     0.001095     0.000828   \n",
       "75%       ...          0.009016     0.005933     0.007048     0.008231   \n",
       "max       ...          0.054367     0.048008     0.087291     0.054821   \n",
       "\n",
       "               ECL            A        GOOGL          AWK          LYB  \\\n",
       "count  1248.000000  1248.000000  1248.000000  1248.000000  1248.000000   \n",
       "mean      0.000585     0.000861     0.001045     0.000785     0.000749   \n",
       "std       0.010890     0.013731     0.013829     0.010091     0.017738   \n",
       "min      -0.073550    -0.080393    -0.054141    -0.047612    -0.119276   \n",
       "25%      -0.005013    -0.006758    -0.005744    -0.004761    -0.008164   \n",
       "50%       0.000752     0.000690     0.000577     0.001261     0.000943   \n",
       "75%       0.006623     0.008903     0.007725     0.006987     0.010598   \n",
       "max       0.049636     0.086862     0.162584     0.052986     0.078834   \n",
       "\n",
       "               SNA  \n",
       "count  1248.000000  \n",
       "mean      0.000664  \n",
       "std       0.012249  \n",
       "min      -0.073877  \n",
       "25%      -0.005912  \n",
       "50%       0.000653  \n",
       "75%       0.007427  \n",
       "max       0.077593  \n",
       "\n",
       "[8 rows x 479 columns]"
      ]
     },
     "execution_count": 10,
     "metadata": {},
     "output_type": "execute_result"
    }
   ],
   "source": [
    "df.describe()"
   ]
  },
  {
   "cell_type": "code",
   "execution_count": 38,
   "metadata": {},
   "outputs": [],
   "source": [
    "df = df.T # Transpose the dataset to make it a multivariate time series"
   ]
  },
  {
   "cell_type": "markdown",
   "metadata": {},
   "source": [
    "## 1. K-Means Clustering"
   ]
  },
  {
   "cell_type": "code",
   "execution_count": 39,
   "metadata": {},
   "outputs": [],
   "source": [
    "from sklearn.cluster import KMeans"
   ]
  },
  {
   "cell_type": "code",
   "execution_count": 40,
   "metadata": {},
   "outputs": [],
   "source": [
    "l = []"
   ]
  },
  {
   "cell_type": "code",
   "execution_count": 41,
   "metadata": {},
   "outputs": [],
   "source": [
    "for i in range(2,75):\n",
    "    model = KMeans(n_clusters=i).fit(df)\n",
    "    d = {\n",
    "        'model':model,\n",
    "        'ss': model.inertia_,\n",
    "        'nclusters': i,\n",
    "    }\n",
    "    l.append(d)"
   ]
  },
  {
   "cell_type": "code",
   "execution_count": 42,
   "metadata": {},
   "outputs": [],
   "source": [
    "elbow = [i['ss'] for i in l]\n",
    "elbow_ticks = [i['nclusters'] for i in l]\n",
    "ss = pd.Series(elbow, index=elbow_ticks)"
   ]
  },
  {
   "cell_type": "code",
   "execution_count": 43,
   "metadata": {
    "scrolled": true
   },
   "outputs": [
    {
     "data": {
      "text/plain": [
       "<matplotlib.axes._subplots.AxesSubplot at 0x263b838f7b8>"
      ]
     },
     "execution_count": 43,
     "metadata": {},
     "output_type": "execute_result"
    },
    {
     "data": {
      "image/png": "[encoded data removed]",
      "text/plain": [
       "<matplotlib.figure.Figure at 0x263b83b9fd0>"
      ]
     },
     "metadata": {},
     "output_type": "display_data"
    }
   ],
   "source": [
    "ss.plot()"
   ]
  },
  {
   "cell_type": "code",
   "execution_count": 44,
   "metadata": {},
   "outputs": [],
   "source": [
    "model = KMeans(n_clusters=5).fit(df)\n",
    "labels_kmeans_5 = model.labels_"
   ]
  },
  {
   "cell_type": "code",
   "execution_count": 45,
   "metadata": {},
   "outputs": [],
   "source": [
    "model = KMeans(n_clusters=10).fit(df)\n",
    "labels_kmeans_10 = model.labels_"
   ]
  },
  {
   "cell_type": "code",
   "execution_count": 46,
   "metadata": {},
   "outputs": [],
   "source": [
    "model = KMeans(n_clusters=15).fit(df)\n",
    "labels_kmeans_15 = model.labels_"
   ]
  },
  {
   "cell_type": "code",
   "execution_count": 47,
   "metadata": {},
   "outputs": [],
   "source": [
    "df['labels_kmeans_5'] = labels_kmeans_5\n",
    "df['labels_kmeans_10'] = labels_kmeans_10\n",
    "df['labels_kmeans_15'] = labels_kmeans_15"
   ]
  },
  {
   "cell_type": "markdown",
   "metadata": {},
   "source": [
    "## 2. Agglomorative (Hiarachical) Clustering"
   ]
  },
  {
   "cell_type": "code",
   "execution_count": 19,
   "metadata": {},
   "outputs": [],
   "source": [
    "from sklearn.cluster import AgglomerativeClustering"
   ]
  },
  {
   "cell_type": "code",
   "execution_count": 20,
   "metadata": {},
   "outputs": [],
   "source": [
    "model = AgglomerativeClustering(linkage='ward', n_clusters=5).fit(df)\n",
    "labels_agglomorative_ward_5 = model.labels_"
   ]
  },
  {
   "cell_type": "code",
   "execution_count": 21,
   "metadata": {},
   "outputs": [],
   "source": [
    "model = AgglomerativeClustering(linkage='ward', n_clusters=10).fit(df)\n",
    "labels_agglomorative_ward_10 = model.labels_"
   ]
  },
  {
   "cell_type": "code",
   "execution_count": 22,
   "metadata": {},
   "outputs": [],
   "source": [
    "model = AgglomerativeClustering(linkage='ward', n_clusters=15).fit(df)\n",
    "labels_agglomorative_ward_15 = model.labels_"
   ]
  },
  {
   "cell_type": "code",
   "execution_count": null,
   "metadata": {},
   "outputs": [],
   "source": [
    "df['labels_agglomorative_ward_5']= labels_agglomorative_ward_5\n",
    "df['labels_agglomorative_ward_10'] = labels_agglomorative_ward_10\n",
    "df['labels_agglomorative_ward_15'] = labels_agglomorative_ward_15"
   ]
  },
  {
   "cell_type": "markdown",
   "metadata": {},
   "source": [
    "## 3. Gaussian Mixture Models"
   ]
  },
  {
   "cell_type": "code",
   "execution_count": 23,
   "metadata": {},
   "outputs": [],
   "source": [
    "from sklearn.mixture import GaussianMixture"
   ]
  },
  {
   "cell_type": "code",
   "execution_count": 24,
   "metadata": {},
   "outputs": [],
   "source": [
    "def clust(df, comp, cov_type):\n",
    "    gmix = GaussianMixture(n_components=comp,\n",
    "                           covariance_type=cov_type, # 'spherical', 'diag', 'tied', 'full'\n",
    "                           max_iter=25, \n",
    "                           random_state=0)\n",
    "\n",
    "    gmix.fit(df.T)\n",
    "\n",
    "    labels_gmix = gmix.predict(df.T)\n",
    "\n",
    "    return labels_gmix, gmix.bic(df.T)"
   ]
  },
  {
   "cell_type": "code",
   "execution_count": 25,
   "metadata": {
    "scrolled": true
   },
   "outputs": [
    {
     "name": "stderr",
     "output_type": "stream",
     "text": [
      "E:\\Anaconda\\lib\\site-packages\\sklearn\\mixture\\base.py:237: ConvergenceWarning: Initialization 1 did not converge. Try different init parameters, or increase max_iter, tol or check for degenerate data.\n",
      "  % (init + 1), ConvergenceWarning)\n"
     ]
    },
    {
     "data": {
      "text/plain": [
       "<matplotlib.axes._subplots.AxesSubplot at 0x263b7f40ef0>"
      ]
     },
     "execution_count": 25,
     "metadata": {},
     "output_type": "execute_result"
    },
    {
     "data": {
      "image/png": "[encoded data removed]",
      "text/plain": [
       "<matplotlib.figure.Figure at 0x263b7f40908>"
      ]
     },
     "metadata": {},
     "output_type": "display_data"
    }
   ],
   "source": [
    "l = []\n",
    "for i in range(1,25):\n",
    "    l.append(clust(df.T, i, 'spherical')) # 'spherical', 'diag', 'tied', 'full'\n",
    "l_spherical = l\n",
    "\n",
    "pd.DataFrame(l)[1].plot()"
   ]
  },
  {
   "cell_type": "raw",
   "metadata": {},
   "source": [
    "Optimal number of clusters = 8"
   ]
  },
  {
   "cell_type": "code",
   "execution_count": 27,
   "metadata": {
    "scrolled": true
   },
   "outputs": [
    {
     "data": {
      "text/plain": [
       "<matplotlib.axes._subplots.AxesSubplot at 0x263b8166278>"
      ]
     },
     "execution_count": 27,
     "metadata": {},
     "output_type": "execute_result"
    },
    {
     "data": {
      "image/png": "[encoded data removed]",
      "text/plain": [
       "<matplotlib.figure.Figure at 0x263b80c82e8>"
      ]
     },
     "metadata": {},
     "output_type": "display_data"
    }
   ],
   "source": [
    "l = []\n",
    "for i in range(1,25):\n",
    "    l.append(clust(df.T, i, 'diag')) # 'spherical', 'diag', 'tied', 'full'\n",
    "l_diag = l\n",
    "    \n",
    "pd.DataFrame(l)[1].plot()"
   ]
  },
  {
   "cell_type": "raw",
   "metadata": {},
   "source": [
    "Optimal number of clusters = 4"
   ]
  },
  {
   "cell_type": "code",
   "execution_count": 26,
   "metadata": {
    "scrolled": true
   },
   "outputs": [
    {
     "data": {
      "text/plain": [
       "<matplotlib.axes._subplots.AxesSubplot at 0x263b8112e80>"
      ]
     },
     "execution_count": 26,
     "metadata": {},
     "output_type": "execute_result"
    },
    {
     "data": {
      "image/png": "[encoded data removed]",
      "text/plain": [
       "<matplotlib.figure.Figure at 0x263b80fd198>"
      ]
     },
     "metadata": {},
     "output_type": "display_data"
    }
   ],
   "source": [
    "l = []\n",
    "for i in range(1,25):\n",
    "    l.append(clust(df.T, i, 'tied')) # 'spherical', 'diag', 'tied', 'full'\n",
    "l_tied = l\n",
    "    \n",
    "pd.DataFrame(l)[1].plot()"
   ]
  },
  {
   "cell_type": "raw",
   "metadata": {},
   "source": [
    "NO optimal clusters found"
   ]
  },
  {
   "cell_type": "code",
   "execution_count": 28,
   "metadata": {
    "scrolled": true
   },
   "outputs": [
    {
     "data": {
      "text/plain": [
       "<matplotlib.axes._subplots.AxesSubplot at 0x263b8194a58>"
      ]
     },
     "execution_count": 28,
     "metadata": {},
     "output_type": "execute_result"
    },
    {
     "data": {
      "image/png": "[encoded data removed]",
      "text/plain": [
       "<matplotlib.figure.Figure at 0x263b81c2470>"
      ]
     },
     "metadata": {},
     "output_type": "display_data"
    }
   ],
   "source": [
    "l = []\n",
    "for i in range(1,25):\n",
    "    l.append(clust(df.T, i, 'full')) # 'spherical', 'diag', 'tied', 'full'\n",
    "l_full = l\n",
    "    \n",
    "pd.DataFrame(l)[1].plot()"
   ]
  },
  {
   "cell_type": "raw",
   "metadata": {},
   "source": [
    "NO optimal clusters found"
   ]
  },
  {
   "cell_type": "code",
   "execution_count": 29,
   "metadata": {},
   "outputs": [],
   "source": [
    "labels_gmm_diag_5 = clust(df.T, 5, 'diag')[0]\n",
    "labels_gmm_spherical_8 = clust(df.T, 8, 'spherical')[0]"
   ]
  },
  {
   "cell_type": "markdown",
   "metadata": {},
   "source": [
    "## 4. Self Organizing Maps"
   ]
  },
  {
   "cell_type": "code",
   "execution_count": 30,
   "metadata": {},
   "outputs": [],
   "source": [
    "from pyclustering.cluster.somsc import somsc"
   ]
  },
  {
   "cell_type": "code",
   "execution_count": 32,
   "metadata": {},
   "outputs": [],
   "source": [
    "model = somsc(df.as_matrix(), 5)\n",
    "model.process()"
   ]
  },
  {
   "cell_type": "code",
   "execution_count": 33,
   "metadata": {},
   "outputs": [],
   "source": [
    "clusts_som_5 = pd.DataFrame(model.get_clusters())\n",
    "\n",
    "model = somsc(df.as_matrix(), 10)\n",
    "model.process()\n",
    "clusts_som_10 = pd.DataFrame(model.get_clusters())\n",
    "\n",
    "model = somsc(df.as_matrix(), 15)\n",
    "model.process()\n",
    "clusts_som_15 = pd.DataFrame(model.get_clusters())"
   ]
  },
  {
   "cell_type": "code",
   "execution_count": null,
   "metadata": {},
   "outputs": [],
   "source": []
  }
 ],
 "metadata": {
  "kernelspec": {
   "display_name": "Python 3",
   "language": "python",
   "name": "python3"
  },
  "language_info": {
   "codemirror_mode": {
    "name": "ipython",
    "version": 3
   },
   "file_extension": ".py",
   "mimetype": "text/x-python",
   "name": "python",
   "nbconvert_exporter": "python",
   "pygments_lexer": "ipython3",
   "version": "3.6.4"
  }
 },
 "nbformat": 4,
 "nbformat_minor": 2
}
