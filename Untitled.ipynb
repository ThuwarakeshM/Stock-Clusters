{
 "cells": [
  {
   "cell_type": "markdown",
   "metadata": {},
   "source": [
    "# S&P 500 Market Segmentation"
   ]
  },
  {
   "cell_type": "code",
   "execution_count": 3,
   "metadata": {},
   "outputs": [],
   "source": [
    "# Import Required Packages\n",
    "import pandas as pd\n",
    "import matplotlib.pyplot as plt\n",
    "%matplotlib inline"
   ]
  },
  {
   "cell_type": "markdown",
   "metadata": {},
   "source": [
    "## Data Preparation"
   ]
  },
  {
   "cell_type": "code",
   "execution_count": 4,
   "metadata": {},
   "outputs": [],
   "source": [
    "# Read the dataset, parsing dates\n",
    "df = pd.read_csv('data_quaterly.csv', index_col=0, parse_dates=['Date'])"
   ]
  },
  {
   "cell_type": "code",
   "execution_count": 5,
   "metadata": {},
   "outputs": [
    {
     "data": {
      "text/html": [
       "<div>\n",
       "<style scoped>\n",
       "    .dataframe tbody tr th:only-of-type {\n",
       "        vertical-align: middle;\n",
       "    }\n",
       "\n",
       "    .dataframe tbody tr th {\n",
       "        vertical-align: top;\n",
       "    }\n",
       "\n",
       "    .dataframe thead th {\n",
       "        text-align: right;\n",
       "    }\n",
       "</style>\n",
       "<table border=\"1\" class=\"dataframe\">\n",
       "  <thead>\n",
       "    <tr style=\"text-align: right;\">\n",
       "      <th></th>\n",
       "      <th>SNA</th>\n",
       "      <th>KO</th>\n",
       "      <th>WM</th>\n",
       "      <th>HLT</th>\n",
       "      <th>JEC</th>\n",
       "      <th>MRK</th>\n",
       "      <th>PSA</th>\n",
       "      <th>MYL</th>\n",
       "      <th>VTR</th>\n",
       "      <th>PH</th>\n",
       "      <th>...</th>\n",
       "      <th>GPS</th>\n",
       "      <th>CA</th>\n",
       "      <th>UNH</th>\n",
       "      <th>WMB</th>\n",
       "      <th>HCA</th>\n",
       "      <th>ETN</th>\n",
       "      <th>HOLX</th>\n",
       "      <th>ACN</th>\n",
       "      <th>CMCSA</th>\n",
       "      <th>AZO</th>\n",
       "    </tr>\n",
       "    <tr>\n",
       "      <th>Date</th>\n",
       "      <th></th>\n",
       "      <th></th>\n",
       "      <th></th>\n",
       "      <th></th>\n",
       "      <th></th>\n",
       "      <th></th>\n",
       "      <th></th>\n",
       "      <th></th>\n",
       "      <th></th>\n",
       "      <th></th>\n",
       "      <th></th>\n",
       "      <th></th>\n",
       "      <th></th>\n",
       "      <th></th>\n",
       "      <th></th>\n",
       "      <th></th>\n",
       "      <th></th>\n",
       "      <th></th>\n",
       "      <th></th>\n",
       "      <th></th>\n",
       "      <th></th>\n",
       "    </tr>\n",
       "  </thead>\n",
       "  <tbody>\n",
       "    <tr>\n",
       "      <th>2012-11-02</th>\n",
       "      <td>-0.005305</td>\n",
       "      <td>-0.006697</td>\n",
       "      <td>-0.025152</td>\n",
       "      <td>NaN</td>\n",
       "      <td>-0.017984</td>\n",
       "      <td>0.001306</td>\n",
       "      <td>0.003003</td>\n",
       "      <td>-0.008111</td>\n",
       "      <td>0.011185</td>\n",
       "      <td>-0.017806</td>\n",
       "      <td>...</td>\n",
       "      <td>-0.015147</td>\n",
       "      <td>-0.008204</td>\n",
       "      <td>-0.015803</td>\n",
       "      <td>-0.018403</td>\n",
       "      <td>0.021993</td>\n",
       "      <td>-0.007864</td>\n",
       "      <td>-0.007122</td>\n",
       "      <td>-0.013366</td>\n",
       "      <td>0.001598</td>\n",
       "      <td>0.006757</td>\n",
       "    </tr>\n",
       "    <tr>\n",
       "      <th>2012-11-05</th>\n",
       "      <td>0.008381</td>\n",
       "      <td>-0.008360</td>\n",
       "      <td>0.003419</td>\n",
       "      <td>NaN</td>\n",
       "      <td>0.024504</td>\n",
       "      <td>-0.007174</td>\n",
       "      <td>-0.001853</td>\n",
       "      <td>0.006231</td>\n",
       "      <td>-0.014956</td>\n",
       "      <td>0.006673</td>\n",
       "      <td>...</td>\n",
       "      <td>0.007405</td>\n",
       "      <td>0.003048</td>\n",
       "      <td>-0.013738</td>\n",
       "      <td>0.004233</td>\n",
       "      <td>0.050864</td>\n",
       "      <td>0.026220</td>\n",
       "      <td>-0.000478</td>\n",
       "      <td>-0.000442</td>\n",
       "      <td>-0.004786</td>\n",
       "      <td>0.000836</td>\n",
       "    </tr>\n",
       "    <tr>\n",
       "      <th>2012-11-06</th>\n",
       "      <td>0.005667</td>\n",
       "      <td>0.017677</td>\n",
       "      <td>-0.001549</td>\n",
       "      <td>NaN</td>\n",
       "      <td>0.031470</td>\n",
       "      <td>0.005474</td>\n",
       "      <td>0.007069</td>\n",
       "      <td>0.006966</td>\n",
       "      <td>0.010754</td>\n",
       "      <td>0.005753</td>\n",
       "      <td>...</td>\n",
       "      <td>0.016115</td>\n",
       "      <td>-0.002170</td>\n",
       "      <td>0.020080</td>\n",
       "      <td>0.007528</td>\n",
       "      <td>-0.040335</td>\n",
       "      <td>-0.001386</td>\n",
       "      <td>-0.003349</td>\n",
       "      <td>0.012227</td>\n",
       "      <td>-0.006946</td>\n",
       "      <td>0.005297</td>\n",
       "    </tr>\n",
       "    <tr>\n",
       "      <th>2012-11-07</th>\n",
       "      <td>-0.029552</td>\n",
       "      <td>-0.018706</td>\n",
       "      <td>-0.009618</td>\n",
       "      <td>NaN</td>\n",
       "      <td>-0.031242</td>\n",
       "      <td>-0.031794</td>\n",
       "      <td>0.016379</td>\n",
       "      <td>-0.007686</td>\n",
       "      <td>0.003286</td>\n",
       "      <td>-0.036931</td>\n",
       "      <td>...</td>\n",
       "      <td>-0.018920</td>\n",
       "      <td>-0.026098</td>\n",
       "      <td>-0.037773</td>\n",
       "      <td>-0.018231</td>\n",
       "      <td>0.094407</td>\n",
       "      <td>-0.017255</td>\n",
       "      <td>-0.023524</td>\n",
       "      <td>-0.030272</td>\n",
       "      <td>-0.015873</td>\n",
       "      <td>-0.002310</td>\n",
       "    </tr>\n",
       "    <tr>\n",
       "      <th>2012-11-08</th>\n",
       "      <td>-0.005935</td>\n",
       "      <td>-0.009804</td>\n",
       "      <td>-0.008459</td>\n",
       "      <td>NaN</td>\n",
       "      <td>-0.018141</td>\n",
       "      <td>-0.013945</td>\n",
       "      <td>-0.009907</td>\n",
       "      <td>-0.006584</td>\n",
       "      <td>-0.010761</td>\n",
       "      <td>0.013815</td>\n",
       "      <td>...</td>\n",
       "      <td>-0.033749</td>\n",
       "      <td>-0.014739</td>\n",
       "      <td>-0.015112</td>\n",
       "      <td>-0.019787</td>\n",
       "      <td>-0.046972</td>\n",
       "      <td>-0.013522</td>\n",
       "      <td>-0.013274</td>\n",
       "      <td>-0.010206</td>\n",
       "      <td>-0.010388</td>\n",
       "      <td>-0.014049</td>\n",
       "    </tr>\n",
       "  </tbody>\n",
       "</table>\n",
       "<p>5 rows × 502 columns</p>\n",
       "</div>"
      ],
      "text/plain": [
       "                 SNA        KO        WM  HLT       JEC       MRK       PSA  \\\n",
       "Date                                                                          \n",
       "2012-11-02 -0.005305 -0.006697 -0.025152  NaN -0.017984  0.001306  0.003003   \n",
       "2012-11-05  0.008381 -0.008360  0.003419  NaN  0.024504 -0.007174 -0.001853   \n",
       "2012-11-06  0.005667  0.017677 -0.001549  NaN  0.031470  0.005474  0.007069   \n",
       "2012-11-07 -0.029552 -0.018706 -0.009618  NaN -0.031242 -0.031794  0.016379   \n",
       "2012-11-08 -0.005935 -0.009804 -0.008459  NaN -0.018141 -0.013945 -0.009907   \n",
       "\n",
       "                 MYL       VTR        PH    ...          GPS        CA  \\\n",
       "Date                                        ...                          \n",
       "2012-11-02 -0.008111  0.011185 -0.017806    ...    -0.015147 -0.008204   \n",
       "2012-11-05  0.006231 -0.014956  0.006673    ...     0.007405  0.003048   \n",
       "2012-11-06  0.006966  0.010754  0.005753    ...     0.016115 -0.002170   \n",
       "2012-11-07 -0.007686  0.003286 -0.036931    ...    -0.018920 -0.026098   \n",
       "2012-11-08 -0.006584 -0.010761  0.013815    ...    -0.033749 -0.014739   \n",
       "\n",
       "                 UNH       WMB       HCA       ETN      HOLX       ACN  \\\n",
       "Date                                                                     \n",
       "2012-11-02 -0.015803 -0.018403  0.021993 -0.007864 -0.007122 -0.013366   \n",
       "2012-11-05 -0.013738  0.004233  0.050864  0.026220 -0.000478 -0.000442   \n",
       "2012-11-06  0.020080  0.007528 -0.040335 -0.001386 -0.003349  0.012227   \n",
       "2012-11-07 -0.037773 -0.018231  0.094407 -0.017255 -0.023524 -0.030272   \n",
       "2012-11-08 -0.015112 -0.019787 -0.046972 -0.013522 -0.013274 -0.010206   \n",
       "\n",
       "               CMCSA       AZO  \n",
       "Date                            \n",
       "2012-11-02  0.001598  0.006757  \n",
       "2012-11-05 -0.004786  0.000836  \n",
       "2012-11-06 -0.006946  0.005297  \n",
       "2012-11-07 -0.015873 -0.002310  \n",
       "2012-11-08 -0.010388 -0.014049  \n",
       "\n",
       "[5 rows x 502 columns]"
      ]
     },
     "execution_count": 5,
     "metadata": {},
     "output_type": "execute_result"
    }
   ],
   "source": [
    "df.head() #Head Check"
   ]
  },
  {
   "cell_type": "code",
   "execution_count": 6,
   "metadata": {},
   "outputs": [
    {
     "data": {
      "text/html": [
       "<div>\n",
       "<style scoped>\n",
       "    .dataframe tbody tr th:only-of-type {\n",
       "        vertical-align: middle;\n",
       "    }\n",
       "\n",
       "    .dataframe tbody tr th {\n",
       "        vertical-align: top;\n",
       "    }\n",
       "\n",
       "    .dataframe thead th {\n",
       "        text-align: right;\n",
       "    }\n",
       "</style>\n",
       "<table border=\"1\" class=\"dataframe\">\n",
       "  <thead>\n",
       "    <tr style=\"text-align: right;\">\n",
       "      <th></th>\n",
       "      <th>SNA</th>\n",
       "      <th>KO</th>\n",
       "      <th>WM</th>\n",
       "      <th>HLT</th>\n",
       "      <th>JEC</th>\n",
       "      <th>MRK</th>\n",
       "      <th>PSA</th>\n",
       "      <th>MYL</th>\n",
       "      <th>VTR</th>\n",
       "      <th>PH</th>\n",
       "      <th>...</th>\n",
       "      <th>GPS</th>\n",
       "      <th>CA</th>\n",
       "      <th>UNH</th>\n",
       "      <th>WMB</th>\n",
       "      <th>HCA</th>\n",
       "      <th>ETN</th>\n",
       "      <th>HOLX</th>\n",
       "      <th>ACN</th>\n",
       "      <th>CMCSA</th>\n",
       "      <th>AZO</th>\n",
       "    </tr>\n",
       "  </thead>\n",
       "  <tbody>\n",
       "    <tr>\n",
       "      <th>count</th>\n",
       "      <td>1259.000000</td>\n",
       "      <td>1259.000000</td>\n",
       "      <td>1259.000000</td>\n",
       "      <td>979.000000</td>\n",
       "      <td>1259.000000</td>\n",
       "      <td>1259.000000</td>\n",
       "      <td>1259.000000</td>\n",
       "      <td>1259.000000</td>\n",
       "      <td>1259.000000</td>\n",
       "      <td>1259.000000</td>\n",
       "      <td>...</td>\n",
       "      <td>1259.000000</td>\n",
       "      <td>1259.000000</td>\n",
       "      <td>1259.000000</td>\n",
       "      <td>1259.000000</td>\n",
       "      <td>1259.000000</td>\n",
       "      <td>1259.000000</td>\n",
       "      <td>1259.000000</td>\n",
       "      <td>1259.000000</td>\n",
       "      <td>1259.000000</td>\n",
       "      <td>1259.000000</td>\n",
       "    </tr>\n",
       "    <tr>\n",
       "      <th>mean</th>\n",
       "      <td>0.000626</td>\n",
       "      <td>0.000201</td>\n",
       "      <td>0.000753</td>\n",
       "      <td>0.000613</td>\n",
       "      <td>0.000420</td>\n",
       "      <td>0.000220</td>\n",
       "      <td>0.000371</td>\n",
       "      <td>0.000505</td>\n",
       "      <td>-0.000001</td>\n",
       "      <td>0.000737</td>\n",
       "      <td>...</td>\n",
       "      <td>-0.000050</td>\n",
       "      <td>0.000359</td>\n",
       "      <td>0.001115</td>\n",
       "      <td>0.000315</td>\n",
       "      <td>0.000888</td>\n",
       "      <td>0.000496</td>\n",
       "      <td>0.000591</td>\n",
       "      <td>0.000651</td>\n",
       "      <td>0.000589</td>\n",
       "      <td>0.000419</td>\n",
       "    </tr>\n",
       "    <tr>\n",
       "      <th>std</th>\n",
       "      <td>0.012274</td>\n",
       "      <td>0.008828</td>\n",
       "      <td>0.008739</td>\n",
       "      <td>0.014567</td>\n",
       "      <td>0.014859</td>\n",
       "      <td>0.012068</td>\n",
       "      <td>0.011120</td>\n",
       "      <td>0.021199</td>\n",
       "      <td>0.014458</td>\n",
       "      <td>0.013575</td>\n",
       "      <td>...</td>\n",
       "      <td>0.019916</td>\n",
       "      <td>0.012598</td>\n",
       "      <td>0.012646</td>\n",
       "      <td>0.029544</td>\n",
       "      <td>0.016792</td>\n",
       "      <td>0.014228</td>\n",
       "      <td>0.015302</td>\n",
       "      <td>0.011839</td>\n",
       "      <td>0.011822</td>\n",
       "      <td>0.012363</td>\n",
       "    </tr>\n",
       "    <tr>\n",
       "      <th>min</th>\n",
       "      <td>-0.073877</td>\n",
       "      <td>-0.060291</td>\n",
       "      <td>-0.049362</td>\n",
       "      <td>-0.067435</td>\n",
       "      <td>-0.082476</td>\n",
       "      <td>-0.060611</td>\n",
       "      <td>-0.056079</td>\n",
       "      <td>-0.180451</td>\n",
       "      <td>-0.235743</td>\n",
       "      <td>-0.071046</td>\n",
       "      <td>...</td>\n",
       "      <td>-0.166070</td>\n",
       "      <td>-0.102453</td>\n",
       "      <td>-0.056461</td>\n",
       "      <td>-0.348131</td>\n",
       "      <td>-0.107814</td>\n",
       "      <td>-0.081303</td>\n",
       "      <td>-0.104367</td>\n",
       "      <td>-0.102967</td>\n",
       "      <td>-0.062424</td>\n",
       "      <td>-0.118410</td>\n",
       "    </tr>\n",
       "    <tr>\n",
       "      <th>25%</th>\n",
       "      <td>-0.005960</td>\n",
       "      <td>-0.004278</td>\n",
       "      <td>-0.003884</td>\n",
       "      <td>-0.007320</td>\n",
       "      <td>-0.007934</td>\n",
       "      <td>-0.006012</td>\n",
       "      <td>-0.006249</td>\n",
       "      <td>-0.010317</td>\n",
       "      <td>-0.006020</td>\n",
       "      <td>-0.006471</td>\n",
       "      <td>...</td>\n",
       "      <td>-0.009558</td>\n",
       "      <td>-0.006265</td>\n",
       "      <td>-0.005728</td>\n",
       "      <td>-0.009874</td>\n",
       "      <td>-0.007972</td>\n",
       "      <td>-0.007181</td>\n",
       "      <td>-0.007087</td>\n",
       "      <td>-0.005411</td>\n",
       "      <td>-0.006180</td>\n",
       "      <td>-0.006056</td>\n",
       "    </tr>\n",
       "    <tr>\n",
       "      <th>50%</th>\n",
       "      <td>0.000644</td>\n",
       "      <td>0.000240</td>\n",
       "      <td>0.000857</td>\n",
       "      <td>0.000503</td>\n",
       "      <td>0.000732</td>\n",
       "      <td>0.000158</td>\n",
       "      <td>0.000655</td>\n",
       "      <td>0.000875</td>\n",
       "      <td>0.001075</td>\n",
       "      <td>0.000632</td>\n",
       "      <td>...</td>\n",
       "      <td>0.000755</td>\n",
       "      <td>0.000912</td>\n",
       "      <td>0.000810</td>\n",
       "      <td>0.000318</td>\n",
       "      <td>0.000617</td>\n",
       "      <td>0.000442</td>\n",
       "      <td>0.001289</td>\n",
       "      <td>0.000888</td>\n",
       "      <td>0.000915</td>\n",
       "      <td>0.000256</td>\n",
       "    </tr>\n",
       "    <tr>\n",
       "      <th>75%</th>\n",
       "      <td>0.007434</td>\n",
       "      <td>0.004949</td>\n",
       "      <td>0.005704</td>\n",
       "      <td>0.008991</td>\n",
       "      <td>0.008987</td>\n",
       "      <td>0.006659</td>\n",
       "      <td>0.006790</td>\n",
       "      <td>0.010263</td>\n",
       "      <td>0.007642</td>\n",
       "      <td>0.007756</td>\n",
       "      <td>...</td>\n",
       "      <td>0.009176</td>\n",
       "      <td>0.007096</td>\n",
       "      <td>0.007665</td>\n",
       "      <td>0.010076</td>\n",
       "      <td>0.009703</td>\n",
       "      <td>0.008547</td>\n",
       "      <td>0.008465</td>\n",
       "      <td>0.006817</td>\n",
       "      <td>0.007336</td>\n",
       "      <td>0.006928</td>\n",
       "    </tr>\n",
       "    <tr>\n",
       "      <th>max</th>\n",
       "      <td>0.077593</td>\n",
       "      <td>0.056872</td>\n",
       "      <td>0.051667</td>\n",
       "      <td>0.061424</td>\n",
       "      <td>0.098420</td>\n",
       "      <td>0.104080</td>\n",
       "      <td>0.044721</td>\n",
       "      <td>0.162004</td>\n",
       "      <td>0.050116</td>\n",
       "      <td>0.066428</td>\n",
       "      <td>...</td>\n",
       "      <td>0.152327</td>\n",
       "      <td>0.133629</td>\n",
       "      <td>0.069037</td>\n",
       "      <td>0.343865</td>\n",
       "      <td>0.104691</td>\n",
       "      <td>0.083696</td>\n",
       "      <td>0.085128</td>\n",
       "      <td>0.067566</td>\n",
       "      <td>0.059535</td>\n",
       "      <td>0.061233</td>\n",
       "    </tr>\n",
       "  </tbody>\n",
       "</table>\n",
       "<p>8 rows × 502 columns</p>\n",
       "</div>"
      ],
      "text/plain": [
       "               SNA           KO           WM         HLT          JEC  \\\n",
       "count  1259.000000  1259.000000  1259.000000  979.000000  1259.000000   \n",
       "mean      0.000626     0.000201     0.000753    0.000613     0.000420   \n",
       "std       0.012274     0.008828     0.008739    0.014567     0.014859   \n",
       "min      -0.073877    -0.060291    -0.049362   -0.067435    -0.082476   \n",
       "25%      -0.005960    -0.004278    -0.003884   -0.007320    -0.007934   \n",
       "50%       0.000644     0.000240     0.000857    0.000503     0.000732   \n",
       "75%       0.007434     0.004949     0.005704    0.008991     0.008987   \n",
       "max       0.077593     0.056872     0.051667    0.061424     0.098420   \n",
       "\n",
       "               MRK          PSA          MYL          VTR           PH  \\\n",
       "count  1259.000000  1259.000000  1259.000000  1259.000000  1259.000000   \n",
       "mean      0.000220     0.000371     0.000505    -0.000001     0.000737   \n",
       "std       0.012068     0.011120     0.021199     0.014458     0.013575   \n",
       "min      -0.060611    -0.056079    -0.180451    -0.235743    -0.071046   \n",
       "25%      -0.006012    -0.006249    -0.010317    -0.006020    -0.006471   \n",
       "50%       0.000158     0.000655     0.000875     0.001075     0.000632   \n",
       "75%       0.006659     0.006790     0.010263     0.007642     0.007756   \n",
       "max       0.104080     0.044721     0.162004     0.050116     0.066428   \n",
       "\n",
       "          ...               GPS           CA          UNH          WMB  \\\n",
       "count     ...       1259.000000  1259.000000  1259.000000  1259.000000   \n",
       "mean      ...         -0.000050     0.000359     0.001115     0.000315   \n",
       "std       ...          0.019916     0.012598     0.012646     0.029544   \n",
       "min       ...         -0.166070    -0.102453    -0.056461    -0.348131   \n",
       "25%       ...         -0.009558    -0.006265    -0.005728    -0.009874   \n",
       "50%       ...          0.000755     0.000912     0.000810     0.000318   \n",
       "75%       ...          0.009176     0.007096     0.007665     0.010076   \n",
       "max       ...          0.152327     0.133629     0.069037     0.343865   \n",
       "\n",
       "               HCA          ETN         HOLX          ACN        CMCSA  \\\n",
       "count  1259.000000  1259.000000  1259.000000  1259.000000  1259.000000   \n",
       "mean      0.000888     0.000496     0.000591     0.000651     0.000589   \n",
       "std       0.016792     0.014228     0.015302     0.011839     0.011822   \n",
       "min      -0.107814    -0.081303    -0.104367    -0.102967    -0.062424   \n",
       "25%      -0.007972    -0.007181    -0.007087    -0.005411    -0.006180   \n",
       "50%       0.000617     0.000442     0.001289     0.000888     0.000915   \n",
       "75%       0.009703     0.008547     0.008465     0.006817     0.007336   \n",
       "max       0.104691     0.083696     0.085128     0.067566     0.059535   \n",
       "\n",
       "               AZO  \n",
       "count  1259.000000  \n",
       "mean      0.000419  \n",
       "std       0.012363  \n",
       "min      -0.118410  \n",
       "25%      -0.006056  \n",
       "50%       0.000256  \n",
       "75%       0.006928  \n",
       "max       0.061233  \n",
       "\n",
       "[8 rows x 502 columns]"
      ]
     },
     "execution_count": 6,
     "metadata": {},
     "output_type": "execute_result"
    }
   ],
   "source": [
    "df.describe() # Description of the dataset"
   ]
  },
  {
   "cell_type": "raw",
   "metadata": {},
   "source": [
    "Some of the Columns do not have complete data\n",
    "In the next step we remove the incomplete data columns (Excluding some newer companies)"
   ]
  },
  {
   "cell_type": "code",
   "execution_count": 7,
   "metadata": {},
   "outputs": [
    {
     "data": {
      "text/plain": [
       "FTV      923\n",
       "CSRA     765\n",
       "HPE      745\n",
       "UA       674\n",
       "KHC      671\n",
       "PYPL     671\n",
       "WRK      664\n",
       "QRVO     545\n",
       "BHF      531\n",
       "CFG      476\n",
       "SYF      438\n",
       "INFO     409\n",
       "NAVI     366\n",
       "HLT      280\n",
       "ALLE     263\n",
       "EVHC     196\n",
       "NWS      157\n",
       "NWSA     157\n",
       "COTY     153\n",
       "IQV      129\n",
       "ZTS       62\n",
       "NCLH      53\n",
       "ABBV      41\n",
       "SNI        2\n",
       "COP        1\n",
       "CHD        1\n",
       "MCO        1\n",
       "AOS        1\n",
       "TIF        1\n",
       "BBY        1\n",
       "        ... \n",
       "ALXN       0\n",
       "DISCK      0\n",
       "PVH        0\n",
       "BSX        0\n",
       "ATVI       0\n",
       "RMD        0\n",
       "HAS        0\n",
       "PNR        0\n",
       "C          0\n",
       "LLY        0\n",
       "AET        0\n",
       "TXN        0\n",
       "MMC        0\n",
       "HSIC       0\n",
       "CTL        0\n",
       "IR         0\n",
       "VMC        0\n",
       "MKC        0\n",
       "GLW        0\n",
       "MCK        0\n",
       "DLR        0\n",
       "RSG        0\n",
       "FIS        0\n",
       "ADM        0\n",
       "ECL        0\n",
       "A          0\n",
       "GOOGL      0\n",
       "AWK        0\n",
       "LYB        0\n",
       "SNA        0\n",
       "Length: 502, dtype: int64"
      ]
     },
     "execution_count": 7,
     "metadata": {},
     "output_type": "execute_result"
    }
   ],
   "source": [
    "# Check for number of companies with larger missing values \n",
    "df.apply(lambda x: sum(x.isna())).sort_values(ascending=False) "
   ]
  },
  {
   "cell_type": "code",
   "execution_count": 8,
   "metadata": {},
   "outputs": [],
   "source": [
    "# Removing 22 Companies with larger missing values\n",
    "df = df[list(df.apply(lambda x: sum(x.isna())).sort_values(ascending=False)[23:].index)]"
   ]
  },
  {
   "cell_type": "code",
   "execution_count": 9,
   "metadata": {},
   "outputs": [],
   "source": [
    "df = df.dropna() # Removing na values in data"
   ]
  },
  {
   "cell_type": "code",
   "execution_count": 10,
   "metadata": {},
   "outputs": [
    {
     "data": {
      "text/html": [
       "<div>\n",
       "<style scoped>\n",
       "    .dataframe tbody tr th:only-of-type {\n",
       "        vertical-align: middle;\n",
       "    }\n",
       "\n",
       "    .dataframe tbody tr th {\n",
       "        vertical-align: top;\n",
       "    }\n",
       "\n",
       "    .dataframe thead th {\n",
       "        text-align: right;\n",
       "    }\n",
       "</style>\n",
       "<table border=\"1\" class=\"dataframe\">\n",
       "  <thead>\n",
       "    <tr style=\"text-align: right;\">\n",
       "      <th></th>\n",
       "      <th>SNI</th>\n",
       "      <th>COP</th>\n",
       "      <th>CHD</th>\n",
       "      <th>MCO</th>\n",
       "      <th>AOS</th>\n",
       "      <th>TIF</th>\n",
       "      <th>BBY</th>\n",
       "      <th>JPM</th>\n",
       "      <th>NLSN</th>\n",
       "      <th>DHI</th>\n",
       "      <th>...</th>\n",
       "      <th>DLR</th>\n",
       "      <th>RSG</th>\n",
       "      <th>FIS</th>\n",
       "      <th>ADM</th>\n",
       "      <th>ECL</th>\n",
       "      <th>A</th>\n",
       "      <th>GOOGL</th>\n",
       "      <th>AWK</th>\n",
       "      <th>LYB</th>\n",
       "      <th>SNA</th>\n",
       "    </tr>\n",
       "  </thead>\n",
       "  <tbody>\n",
       "    <tr>\n",
       "      <th>count</th>\n",
       "      <td>1248.000000</td>\n",
       "      <td>1248.000000</td>\n",
       "      <td>1248.000000</td>\n",
       "      <td>1248.000000</td>\n",
       "      <td>1248.000000</td>\n",
       "      <td>1248.000000</td>\n",
       "      <td>1248.000000</td>\n",
       "      <td>1248.000000</td>\n",
       "      <td>1248.000000</td>\n",
       "      <td>1248.000000</td>\n",
       "      <td>...</td>\n",
       "      <td>1248.000000</td>\n",
       "      <td>1248.000000</td>\n",
       "      <td>1248.000000</td>\n",
       "      <td>1248.000000</td>\n",
       "      <td>1248.000000</td>\n",
       "      <td>1248.000000</td>\n",
       "      <td>1248.000000</td>\n",
       "      <td>1248.000000</td>\n",
       "      <td>1248.000000</td>\n",
       "      <td>1248.000000</td>\n",
       "    </tr>\n",
       "    <tr>\n",
       "      <th>mean</th>\n",
       "      <td>0.000354</td>\n",
       "      <td>0.000124</td>\n",
       "      <td>0.000553</td>\n",
       "      <td>0.000983</td>\n",
       "      <td>0.001206</td>\n",
       "      <td>0.000440</td>\n",
       "      <td>0.001442</td>\n",
       "      <td>0.000776</td>\n",
       "      <td>0.000347</td>\n",
       "      <td>0.000802</td>\n",
       "      <td>...</td>\n",
       "      <td>0.000695</td>\n",
       "      <td>0.000744</td>\n",
       "      <td>0.000901</td>\n",
       "      <td>0.000402</td>\n",
       "      <td>0.000585</td>\n",
       "      <td>0.000861</td>\n",
       "      <td>0.001045</td>\n",
       "      <td>0.000785</td>\n",
       "      <td>0.000749</td>\n",
       "      <td>0.000664</td>\n",
       "    </tr>\n",
       "    <tr>\n",
       "      <th>std</th>\n",
       "      <td>0.014624</td>\n",
       "      <td>0.017857</td>\n",
       "      <td>0.009630</td>\n",
       "      <td>0.014305</td>\n",
       "      <td>0.014079</td>\n",
       "      <td>0.015650</td>\n",
       "      <td>0.026575</td>\n",
       "      <td>0.012842</td>\n",
       "      <td>0.013311</td>\n",
       "      <td>0.019623</td>\n",
       "      <td>...</td>\n",
       "      <td>0.014387</td>\n",
       "      <td>0.008852</td>\n",
       "      <td>0.012030</td>\n",
       "      <td>0.014257</td>\n",
       "      <td>0.010890</td>\n",
       "      <td>0.013731</td>\n",
       "      <td>0.013829</td>\n",
       "      <td>0.010091</td>\n",
       "      <td>0.017738</td>\n",
       "      <td>0.012249</td>\n",
       "    </tr>\n",
       "    <tr>\n",
       "      <th>min</th>\n",
       "      <td>-0.075941</td>\n",
       "      <td>-0.092116</td>\n",
       "      <td>-0.066243</td>\n",
       "      <td>-0.106594</td>\n",
       "      <td>-0.078629</td>\n",
       "      <td>-0.139584</td>\n",
       "      <td>-0.285866</td>\n",
       "      <td>-0.069477</td>\n",
       "      <td>-0.168942</td>\n",
       "      <td>-0.115323</td>\n",
       "      <td>...</td>\n",
       "      <td>-0.152680</td>\n",
       "      <td>-0.064641</td>\n",
       "      <td>-0.122857</td>\n",
       "      <td>-0.088782</td>\n",
       "      <td>-0.073550</td>\n",
       "      <td>-0.080393</td>\n",
       "      <td>-0.054141</td>\n",
       "      <td>-0.047612</td>\n",
       "      <td>-0.119276</td>\n",
       "      <td>-0.073877</td>\n",
       "    </tr>\n",
       "    <tr>\n",
       "      <th>25%</th>\n",
       "      <td>-0.006850</td>\n",
       "      <td>-0.008979</td>\n",
       "      <td>-0.004543</td>\n",
       "      <td>-0.005703</td>\n",
       "      <td>-0.006241</td>\n",
       "      <td>-0.008080</td>\n",
       "      <td>-0.009608</td>\n",
       "      <td>-0.005685</td>\n",
       "      <td>-0.006576</td>\n",
       "      <td>-0.009580</td>\n",
       "      <td>...</td>\n",
       "      <td>-0.006107</td>\n",
       "      <td>-0.003807</td>\n",
       "      <td>-0.004841</td>\n",
       "      <td>-0.006783</td>\n",
       "      <td>-0.005013</td>\n",
       "      <td>-0.006758</td>\n",
       "      <td>-0.005744</td>\n",
       "      <td>-0.004761</td>\n",
       "      <td>-0.008164</td>\n",
       "      <td>-0.005912</td>\n",
       "    </tr>\n",
       "    <tr>\n",
       "      <th>50%</th>\n",
       "      <td>0.000353</td>\n",
       "      <td>0.000000</td>\n",
       "      <td>0.000802</td>\n",
       "      <td>0.001253</td>\n",
       "      <td>0.001375</td>\n",
       "      <td>0.000755</td>\n",
       "      <td>0.001182</td>\n",
       "      <td>0.000640</td>\n",
       "      <td>0.000000</td>\n",
       "      <td>0.000402</td>\n",
       "      <td>...</td>\n",
       "      <td>0.001363</td>\n",
       "      <td>0.000872</td>\n",
       "      <td>0.001095</td>\n",
       "      <td>0.000828</td>\n",
       "      <td>0.000752</td>\n",
       "      <td>0.000690</td>\n",
       "      <td>0.000577</td>\n",
       "      <td>0.001261</td>\n",
       "      <td>0.000943</td>\n",
       "      <td>0.000653</td>\n",
       "    </tr>\n",
       "    <tr>\n",
       "      <th>75%</th>\n",
       "      <td>0.007207</td>\n",
       "      <td>0.008478</td>\n",
       "      <td>0.006221</td>\n",
       "      <td>0.008200</td>\n",
       "      <td>0.008719</td>\n",
       "      <td>0.008976</td>\n",
       "      <td>0.013343</td>\n",
       "      <td>0.007654</td>\n",
       "      <td>0.007680</td>\n",
       "      <td>0.011225</td>\n",
       "      <td>...</td>\n",
       "      <td>0.009016</td>\n",
       "      <td>0.005933</td>\n",
       "      <td>0.007048</td>\n",
       "      <td>0.008231</td>\n",
       "      <td>0.006623</td>\n",
       "      <td>0.008903</td>\n",
       "      <td>0.007725</td>\n",
       "      <td>0.006987</td>\n",
       "      <td>0.010598</td>\n",
       "      <td>0.007427</td>\n",
       "    </tr>\n",
       "    <tr>\n",
       "      <th>max</th>\n",
       "      <td>0.147270</td>\n",
       "      <td>0.096993</td>\n",
       "      <td>0.043077</td>\n",
       "      <td>0.082910</td>\n",
       "      <td>0.077005</td>\n",
       "      <td>0.105343</td>\n",
       "      <td>0.214796</td>\n",
       "      <td>0.083286</td>\n",
       "      <td>0.061918</td>\n",
       "      <td>0.117785</td>\n",
       "      <td>...</td>\n",
       "      <td>0.054367</td>\n",
       "      <td>0.048008</td>\n",
       "      <td>0.087291</td>\n",
       "      <td>0.054821</td>\n",
       "      <td>0.049636</td>\n",
       "      <td>0.086862</td>\n",
       "      <td>0.162584</td>\n",
       "      <td>0.052986</td>\n",
       "      <td>0.078834</td>\n",
       "      <td>0.077593</td>\n",
       "    </tr>\n",
       "  </tbody>\n",
       "</table>\n",
       "<p>8 rows × 479 columns</p>\n",
       "</div>"
      ],
      "text/plain": [
       "               SNI          COP          CHD          MCO          AOS  \\\n",
       "count  1248.000000  1248.000000  1248.000000  1248.000000  1248.000000   \n",
       "mean      0.000354     0.000124     0.000553     0.000983     0.001206   \n",
       "std       0.014624     0.017857     0.009630     0.014305     0.014079   \n",
       "min      -0.075941    -0.092116    -0.066243    -0.106594    -0.078629   \n",
       "25%      -0.006850    -0.008979    -0.004543    -0.005703    -0.006241   \n",
       "50%       0.000353     0.000000     0.000802     0.001253     0.001375   \n",
       "75%       0.007207     0.008478     0.006221     0.008200     0.008719   \n",
       "max       0.147270     0.096993     0.043077     0.082910     0.077005   \n",
       "\n",
       "               TIF          BBY          JPM         NLSN          DHI  \\\n",
       "count  1248.000000  1248.000000  1248.000000  1248.000000  1248.000000   \n",
       "mean      0.000440     0.001442     0.000776     0.000347     0.000802   \n",
       "std       0.015650     0.026575     0.012842     0.013311     0.019623   \n",
       "min      -0.139584    -0.285866    -0.069477    -0.168942    -0.115323   \n",
       "25%      -0.008080    -0.009608    -0.005685    -0.006576    -0.009580   \n",
       "50%       0.000755     0.001182     0.000640     0.000000     0.000402   \n",
       "75%       0.008976     0.013343     0.007654     0.007680     0.011225   \n",
       "max       0.105343     0.214796     0.083286     0.061918     0.117785   \n",
       "\n",
       "          ...               DLR          RSG          FIS          ADM  \\\n",
       "count     ...       1248.000000  1248.000000  1248.000000  1248.000000   \n",
       "mean      ...          0.000695     0.000744     0.000901     0.000402   \n",
       "std       ...          0.014387     0.008852     0.012030     0.014257   \n",
       "min       ...         -0.152680    -0.064641    -0.122857    -0.088782   \n",
       "25%       ...         -0.006107    -0.003807    -0.004841    -0.006783   \n",
       "50%       ...          0.001363     0.000872     0.001095     0.000828   \n",
       "75%       ...          0.009016     0.005933     0.007048     0.008231   \n",
       "max       ...          0.054367     0.048008     0.087291     0.054821   \n",
       "\n",
       "               ECL            A        GOOGL          AWK          LYB  \\\n",
       "count  1248.000000  1248.000000  1248.000000  1248.000000  1248.000000   \n",
       "mean      0.000585     0.000861     0.001045     0.000785     0.000749   \n",
       "std       0.010890     0.013731     0.013829     0.010091     0.017738   \n",
       "min      -0.073550    -0.080393    -0.054141    -0.047612    -0.119276   \n",
       "25%      -0.005013    -0.006758    -0.005744    -0.004761    -0.008164   \n",
       "50%       0.000752     0.000690     0.000577     0.001261     0.000943   \n",
       "75%       0.006623     0.008903     0.007725     0.006987     0.010598   \n",
       "max       0.049636     0.086862     0.162584     0.052986     0.078834   \n",
       "\n",
       "               SNA  \n",
       "count  1248.000000  \n",
       "mean      0.000664  \n",
       "std       0.012249  \n",
       "min      -0.073877  \n",
       "25%      -0.005912  \n",
       "50%       0.000653  \n",
       "75%       0.007427  \n",
       "max       0.077593  \n",
       "\n",
       "[8 rows x 479 columns]"
      ]
     },
     "execution_count": 10,
     "metadata": {},
     "output_type": "execute_result"
    }
   ],
   "source": [
    "df.describe()"
   ]
  },
  {
   "cell_type": "code",
   "execution_count": 11,
   "metadata": {},
   "outputs": [],
   "source": [
    "df = df.T # Transpose the dataset to make it a multivariate time series"
   ]
  },
  {
   "cell_type": "markdown",
   "metadata": {},
   "source": [
    "## 1. K-Means Clustering"
   ]
  },
  {
   "cell_type": "code",
   "execution_count": 15,
   "metadata": {},
   "outputs": [],
   "source": [
    "from sklearn.cluster import KMeans"
   ]
  },
  {
   "cell_type": "code",
   "execution_count": 12,
   "metadata": {},
   "outputs": [],
   "source": [
    "l = []"
   ]
  },
  {
   "cell_type": "code",
   "execution_count": 13,
   "metadata": {},
   "outputs": [],
   "source": [
    "for i in range(2,75):\n",
    "    model = KMeans(n_clusters=i).fit(df)\n",
    "    d = {\n",
    "        'model':model,\n",
    "        'ss': model.inertia_,\n",
    "        'nclusters': i,\n",
    "    }\n",
    "    l.append(d)"
   ]
  },
  {
   "cell_type": "code",
   "execution_count": 14,
   "metadata": {},
   "outputs": [],
   "source": [
    "elbow = [i['ss'] for i in l]\n",
    "elbow_ticks = [i['nclusters'] for i in l]\n",
    "ss = pd.Series(elbow, index=elbow_ticks)"
   ]
  },
  {
   "cell_type": "code",
   "execution_count": 15,
   "metadata": {
    "scrolled": true
   },
   "outputs": [
    {
     "data": {
      "text/plain": [
       "<matplotlib.axes._subplots.AxesSubplot at 0x263b7dc6748>"
      ]
     },
     "execution_count": 15,
     "metadata": {},
     "output_type": "execute_result"
    },
    {
     "data": {
      "image/png": "[encoded data removed]",
      "text/plain": [
       "<matplotlib.figure.Figure at 0x263b7ed6d68>"
      ]
     },
     "metadata": {},
     "output_type": "display_data"
    }
   ],
   "source": [
    "ss.plot()"
   ]
  },
  {
   "cell_type": "code",
   "execution_count": 16,
   "metadata": {},
   "outputs": [],
   "source": [
    "model = KMeans(n_clusters=5).fit(df)\n",
    "labels_kmeans_5 = model.labels_"
   ]
  },
  {
   "cell_type": "code",
   "execution_count": 17,
   "metadata": {},
   "outputs": [],
   "source": [
    "model = KMeans(n_clusters=10).fit(df)\n",
    "labels_kmeans_10 = model.labels_"
   ]
  },
  {
   "cell_type": "code",
   "execution_count": 18,
   "metadata": {},
   "outputs": [],
   "source": [
    "model = KMeans(n_clusters=15).fit(df)\n",
    "labels_kmeans_15 = model.labels_"
   ]
  },
  {
   "cell_type": "code",
   "execution_count": 19,
   "metadata": {},
   "outputs": [],
   "source": [
    "df['labels_kmeans_5'] = labels_kmeans_5\n",
    "df['labels_kmeans_10'] = labels_kmeans_10\n",
    "df['labels_kmeans_15'] = labels_kmeans_15"
   ]
  },
  {
   "cell_type": "markdown",
   "metadata": {},
   "source": [
    "## 2. Agglomorative (Hiarachical) Clustering"
   ]
  },
  {
   "cell_type": "code",
   "execution_count": 19,
   "metadata": {},
   "outputs": [],
   "source": [
    "from sklearn.cluster import AgglomerativeClustering"
   ]
  },
  {
   "cell_type": "code",
   "execution_count": 20,
   "metadata": {},
   "outputs": [],
   "source": [
    "model = AgglomerativeClustering(linkage='ward', n_clusters=5).fit(df)\n",
    "labels_agglomorative_ward_5 = model.labels_"
   ]
  },
  {
   "cell_type": "code",
   "execution_count": 21,
   "metadata": {},
   "outputs": [],
   "source": [
    "model = AgglomerativeClustering(linkage='ward', n_clusters=10).fit(df)\n",
    "labels_agglomorative_ward_10 = model.labels_"
   ]
  },
  {
   "cell_type": "code",
   "execution_count": 22,
   "metadata": {},
   "outputs": [],
   "source": [
    "model = AgglomerativeClustering(linkage='ward', n_clusters=15).fit(df)\n",
    "labels_agglomorative_ward_15 = model.labels_"
   ]
  },
  {
   "cell_type": "code",
   "execution_count": null,
   "metadata": {},
   "outputs": [],
   "source": [
    "df['labels_agglomorative_ward_5']= labels_agglomorative_ward_5\n",
    "df['labels_agglomorative_ward_10'] = labels_agglomorative_ward_10\n",
    "df['labels_agglomorative_ward_15'] = labels_agglomorative_ward_15"
   ]
  },
  {
   "cell_type": "markdown",
   "metadata": {},
   "source": [
    "## 3. Gaussian Mixture Models"
   ]
  },
  {
   "cell_type": "code",
   "execution_count": 23,
   "metadata": {},
   "outputs": [],
   "source": [
    "from sklearn.mixture import GaussianMixture"
   ]
  },
  {
   "cell_type": "code",
   "execution_count": 24,
   "metadata": {},
   "outputs": [],
   "source": [
    "def clust(df, comp, cov_type):\n",
    "    gmix = GaussianMixture(n_components=comp,\n",
    "                           covariance_type=cov_type, # 'spherical', 'diag', 'tied', 'full'\n",
    "                           max_iter=25, \n",
    "                           random_state=0)\n",
    "\n",
    "    gmix.fit(df.T)\n",
    "\n",
    "    labels_gmix = gmix.predict(df.T)\n",
    "\n",
    "    return labels_gmix, gmix.bic(df.T)"
   ]
  },
  {
   "cell_type": "code",
   "execution_count": 25,
   "metadata": {
    "scrolled": true
   },
   "outputs": [
    {
     "name": "stderr",
     "output_type": "stream",
     "text": [
      "E:\\Anaconda\\lib\\site-packages\\sklearn\\mixture\\base.py:237: ConvergenceWarning: Initialization 1 did not converge. Try different init parameters, or increase max_iter, tol or check for degenerate data.\n",
      "  % (init + 1), ConvergenceWarning)\n"
     ]
    },
    {
     "data": {
      "text/plain": [
       "<matplotlib.axes._subplots.AxesSubplot at 0x263b7f40ef0>"
      ]
     },
     "execution_count": 25,
     "metadata": {},
     "output_type": "execute_result"
    },
    {
     "data": {
      "image/png": "[encoded data removed]",
      "text/plain": [
       "<matplotlib.figure.Figure at 0x263b7f40908>"
      ]
     },
     "metadata": {},
     "output_type": "display_data"
    }
   ],
   "source": [
    "l = []\n",
    "for i in range(1,25):\n",
    "    l.append(clust(df.T, i, 'spherical')) # 'spherical', 'diag', 'tied', 'full'\n",
    "l_spherical = l\n",
    "\n",
    "pd.DataFrame(l)[1].plot()"
   ]
  },
  {
   "cell_type": "raw",
   "metadata": {},
   "source": [
    "Optimal number of clusters = 8"
   ]
  },
  {
   "cell_type": "code",
   "execution_count": 27,
   "metadata": {
    "scrolled": true
   },
   "outputs": [
    {
     "data": {
      "text/plain": [
       "<matplotlib.axes._subplots.AxesSubplot at 0x263b8166278>"
      ]
     },
     "execution_count": 27,
     "metadata": {},
     "output_type": "execute_result"
    },
    {
     "data": {
      "image/png": "[encoded data removed]",
      "text/plain": [
       "<matplotlib.figure.Figure at 0x263b80c82e8>"
      ]
     },
     "metadata": {},
     "output_type": "display_data"
    }
   ],
   "source": [
    "l = []\n",
    "for i in range(1,25):\n",
    "    l.append(clust(df.T, i, 'diag')) # 'spherical', 'diag', 'tied', 'full'\n",
    "l_diag = l\n",
    "    \n",
    "pd.DataFrame(l)[1].plot()"
   ]
  },
  {
   "cell_type": "raw",
   "metadata": {},
   "source": [
    "Optimal number of clusters = 4"
   ]
  },
  {
   "cell_type": "code",
   "execution_count": 26,
   "metadata": {
    "scrolled": true
   },
   "outputs": [
    {
     "data": {
      "text/plain": [
       "<matplotlib.axes._subplots.AxesSubplot at 0x263b8112e80>"
      ]
     },
     "execution_count": 26,
     "metadata": {},
     "output_type": "execute_result"
    },
    {
     "data": {
      "image/png": "[encoded data removed]",
      "text/plain": [
       "<matplotlib.figure.Figure at 0x263b80fd198>"
      ]
     },
     "metadata": {},
     "output_type": "display_data"
    }
   ],
   "source": [
    "l = []\n",
    "for i in range(1,25):\n",
    "    l.append(clust(df.T, i, 'tied')) # 'spherical', 'diag', 'tied', 'full'\n",
    "l_tied = l\n",
    "    \n",
    "pd.DataFrame(l)[1].plot()"
   ]
  },
  {
   "cell_type": "raw",
   "metadata": {},
   "source": [
    "NO optimal clusters found"
   ]
  },
  {
   "cell_type": "code",
   "execution_count": 28,
   "metadata": {
    "scrolled": true
   },
   "outputs": [
    {
     "data": {
      "text/plain": [
       "<matplotlib.axes._subplots.AxesSubplot at 0x263b8194a58>"
      ]
     },
     "execution_count": 28,
     "metadata": {},
     "output_type": "execute_result"
    },
    {
     "data": {
      "image/png": "[encoded data removed]",
      "text/plain": [
       "<matplotlib.figure.Figure at 0x263b81c2470>"
      ]
     },
     "metadata": {},
     "output_type": "display_data"
    }
   ],
   "source": [
    "l = []\n",
    "for i in range(1,25):\n",
    "    l.append(clust(df.T, i, 'full')) # 'spherical', 'diag', 'tied', 'full'\n",
    "l_full = l\n",
    "    \n",
    "pd.DataFrame(l)[1].plot()"
   ]
  },
  {
   "cell_type": "raw",
   "metadata": {},
   "source": [
    "NO optimal clusters found"
   ]
  },
  {
   "cell_type": "code",
   "execution_count": 29,
   "metadata": {},
   "outputs": [],
   "source": [
    "labels_gmm_diag_5 = clust(df.T, 5, 'diag')[0]\n",
    "labels_gmm_spherical_8 = clust(df.T, 8, 'spherical')[0]"
   ]
  },
  {
   "cell_type": "markdown",
   "metadata": {},
   "source": [
    "## 4. Self Organizing Maps"
   ]
  },
  {
   "cell_type": "code",
   "execution_count": 30,
   "metadata": {},
   "outputs": [],
   "source": [
    "from pyclustering.cluster.somsc import somsc"
   ]
  },
  {
   "cell_type": "code",
   "execution_count": 32,
   "metadata": {},
   "outputs": [],
   "source": [
    "model = somsc(df.as_matrix(), 5)\n",
    "model.process()"
   ]
  },
  {
   "cell_type": "code",
   "execution_count": 33,
   "metadata": {},
   "outputs": [],
   "source": [
    "clusts_som_5 = pd.DataFrame(model.get_clusters())\n",
    "\n",
    "model = somsc(df.as_matrix(), 10)\n",
    "model.process()\n",
    "clusts_som_10 = pd.DataFrame(model.get_clusters())\n",
    "\n",
    "model = somsc(df.as_matrix(), 15)\n",
    "model.process()\n",
    "clusts_som_15 = pd.DataFrame(model.get_clusters())"
   ]
  },
  {
   "cell_type": "code",
   "execution_count": null,
   "metadata": {},
   "outputs": [],
   "source": []
  }
 ],
 "metadata": {
  "kernelspec": {
   "display_name": "Python 3",
   "language": "python",
   "name": "python3"
  },
  "language_info": {
   "codemirror_mode": {
    "name": "ipython",
    "version": 3
   },
   "file_extension": ".py",
   "mimetype": "text/x-python",
   "name": "python",
   "nbconvert_exporter": "python",
   "pygments_lexer": "ipython3",
   "version": "3.5.2"
  }
 },
 "nbformat": 4,
 "nbformat_minor": 2
}
