{
 "cells": [
  {
   "cell_type": "code",
   "execution_count": 2,
   "metadata": {},
   "outputs": [],
   "source": [
    "import pandas as pd\n",
    "from sklearn.mixture import GaussianMixture\n",
    "from pyclustering.cluster.somsc import somsc\n",
    "%matplotlib inline"
   ]
  },
  {
   "cell_type": "markdown",
   "metadata": {},
   "source": [
    "## Data Preparation"
   ]
  },
  {
   "cell_type": "code",
   "execution_count": 3,
   "metadata": {},
   "outputs": [],
   "source": [
    "df = pd.read_csv('data.csv', \n",
    "                 index_col='Date', \n",
    "                 parse_dates=['Date'])"
   ]
  },
  {
   "cell_type": "code",
   "execution_count": 4,
   "metadata": {
    "scrolled": true
   },
   "outputs": [
    {
     "data": {
      "text/html": [
       "<div>\n",
       "<style scoped>\n",
       "    .dataframe tbody tr th:only-of-type {\n",
       "        vertical-align: middle;\n",
       "    }\n",
       "\n",
       "    .dataframe tbody tr th {\n",
       "        vertical-align: top;\n",
       "    }\n",
       "\n",
       "    .dataframe thead th {\n",
       "        text-align: right;\n",
       "    }\n",
       "</style>\n",
       "<table border=\"1\" class=\"dataframe\">\n",
       "  <thead>\n",
       "    <tr style=\"text-align: right;\">\n",
       "      <th></th>\n",
       "      <th>SNA</th>\n",
       "      <th>KO</th>\n",
       "      <th>WM</th>\n",
       "      <th>HLT</th>\n",
       "      <th>JEC</th>\n",
       "      <th>MRK</th>\n",
       "      <th>PSA</th>\n",
       "      <th>MYL</th>\n",
       "      <th>VTR</th>\n",
       "      <th>PH</th>\n",
       "      <th>...</th>\n",
       "      <th>GPS</th>\n",
       "      <th>CA</th>\n",
       "      <th>UNH</th>\n",
       "      <th>WMB</th>\n",
       "      <th>HCA</th>\n",
       "      <th>ETN</th>\n",
       "      <th>HOLX</th>\n",
       "      <th>ACN</th>\n",
       "      <th>CMCSA</th>\n",
       "      <th>AZO</th>\n",
       "    </tr>\n",
       "    <tr>\n",
       "      <th>Date</th>\n",
       "      <th></th>\n",
       "      <th></th>\n",
       "      <th></th>\n",
       "      <th></th>\n",
       "      <th></th>\n",
       "      <th></th>\n",
       "      <th></th>\n",
       "      <th></th>\n",
       "      <th></th>\n",
       "      <th></th>\n",
       "      <th></th>\n",
       "      <th></th>\n",
       "      <th></th>\n",
       "      <th></th>\n",
       "      <th></th>\n",
       "      <th></th>\n",
       "      <th></th>\n",
       "      <th></th>\n",
       "      <th></th>\n",
       "      <th></th>\n",
       "      <th></th>\n",
       "    </tr>\n",
       "  </thead>\n",
       "  <tbody>\n",
       "    <tr>\n",
       "      <th>2012-11-02</th>\n",
       "      <td>-0.005305</td>\n",
       "      <td>-0.006697</td>\n",
       "      <td>-0.025152</td>\n",
       "      <td>NaN</td>\n",
       "      <td>-0.017984</td>\n",
       "      <td>0.001306</td>\n",
       "      <td>0.003003</td>\n",
       "      <td>-0.008111</td>\n",
       "      <td>0.011185</td>\n",
       "      <td>-0.017806</td>\n",
       "      <td>...</td>\n",
       "      <td>-0.015147</td>\n",
       "      <td>-0.008204</td>\n",
       "      <td>-0.015803</td>\n",
       "      <td>-0.018403</td>\n",
       "      <td>0.021993</td>\n",
       "      <td>-0.007864</td>\n",
       "      <td>-0.007122</td>\n",
       "      <td>-0.013366</td>\n",
       "      <td>0.001598</td>\n",
       "      <td>0.006757</td>\n",
       "    </tr>\n",
       "    <tr>\n",
       "      <th>2012-11-05</th>\n",
       "      <td>0.008381</td>\n",
       "      <td>-0.008360</td>\n",
       "      <td>0.003419</td>\n",
       "      <td>NaN</td>\n",
       "      <td>0.024504</td>\n",
       "      <td>-0.007174</td>\n",
       "      <td>-0.001853</td>\n",
       "      <td>0.006231</td>\n",
       "      <td>-0.014956</td>\n",
       "      <td>0.006673</td>\n",
       "      <td>...</td>\n",
       "      <td>0.007405</td>\n",
       "      <td>0.003048</td>\n",
       "      <td>-0.013738</td>\n",
       "      <td>0.004233</td>\n",
       "      <td>0.050864</td>\n",
       "      <td>0.026220</td>\n",
       "      <td>-0.000478</td>\n",
       "      <td>-0.000442</td>\n",
       "      <td>-0.004786</td>\n",
       "      <td>0.000836</td>\n",
       "    </tr>\n",
       "    <tr>\n",
       "      <th>2012-11-06</th>\n",
       "      <td>0.005667</td>\n",
       "      <td>0.017677</td>\n",
       "      <td>-0.001549</td>\n",
       "      <td>NaN</td>\n",
       "      <td>0.031470</td>\n",
       "      <td>0.005474</td>\n",
       "      <td>0.007069</td>\n",
       "      <td>0.006966</td>\n",
       "      <td>0.010754</td>\n",
       "      <td>0.005753</td>\n",
       "      <td>...</td>\n",
       "      <td>0.016115</td>\n",
       "      <td>-0.002170</td>\n",
       "      <td>0.020080</td>\n",
       "      <td>0.007528</td>\n",
       "      <td>-0.040335</td>\n",
       "      <td>-0.001386</td>\n",
       "      <td>-0.003349</td>\n",
       "      <td>0.012227</td>\n",
       "      <td>-0.006946</td>\n",
       "      <td>0.005297</td>\n",
       "    </tr>\n",
       "    <tr>\n",
       "      <th>2012-11-07</th>\n",
       "      <td>-0.029552</td>\n",
       "      <td>-0.018706</td>\n",
       "      <td>-0.009618</td>\n",
       "      <td>NaN</td>\n",
       "      <td>-0.031242</td>\n",
       "      <td>-0.031794</td>\n",
       "      <td>0.016379</td>\n",
       "      <td>-0.007686</td>\n",
       "      <td>0.003286</td>\n",
       "      <td>-0.036931</td>\n",
       "      <td>...</td>\n",
       "      <td>-0.018920</td>\n",
       "      <td>-0.026098</td>\n",
       "      <td>-0.037773</td>\n",
       "      <td>-0.018231</td>\n",
       "      <td>0.094407</td>\n",
       "      <td>-0.017255</td>\n",
       "      <td>-0.023524</td>\n",
       "      <td>-0.030272</td>\n",
       "      <td>-0.015873</td>\n",
       "      <td>-0.002310</td>\n",
       "    </tr>\n",
       "    <tr>\n",
       "      <th>2012-11-08</th>\n",
       "      <td>-0.005935</td>\n",
       "      <td>-0.009804</td>\n",
       "      <td>-0.008459</td>\n",
       "      <td>NaN</td>\n",
       "      <td>-0.018141</td>\n",
       "      <td>-0.013945</td>\n",
       "      <td>-0.009907</td>\n",
       "      <td>-0.006584</td>\n",
       "      <td>-0.010761</td>\n",
       "      <td>0.013815</td>\n",
       "      <td>...</td>\n",
       "      <td>-0.033749</td>\n",
       "      <td>-0.014739</td>\n",
       "      <td>-0.015112</td>\n",
       "      <td>-0.019787</td>\n",
       "      <td>-0.046972</td>\n",
       "      <td>-0.013522</td>\n",
       "      <td>-0.013274</td>\n",
       "      <td>-0.010206</td>\n",
       "      <td>-0.010388</td>\n",
       "      <td>-0.014049</td>\n",
       "    </tr>\n",
       "  </tbody>\n",
       "</table>\n",
       "<p>5 rows × 502 columns</p>\n",
       "</div>"
      ],
      "text/plain": [
       "                 SNA        KO        WM  HLT       JEC       MRK       PSA  \\\n",
       "Date                                                                          \n",
       "2012-11-02 -0.005305 -0.006697 -0.025152  NaN -0.017984  0.001306  0.003003   \n",
       "2012-11-05  0.008381 -0.008360  0.003419  NaN  0.024504 -0.007174 -0.001853   \n",
       "2012-11-06  0.005667  0.017677 -0.001549  NaN  0.031470  0.005474  0.007069   \n",
       "2012-11-07 -0.029552 -0.018706 -0.009618  NaN -0.031242 -0.031794  0.016379   \n",
       "2012-11-08 -0.005935 -0.009804 -0.008459  NaN -0.018141 -0.013945 -0.009907   \n",
       "\n",
       "                 MYL       VTR        PH    ...          GPS        CA  \\\n",
       "Date                                        ...                          \n",
       "2012-11-02 -0.008111  0.011185 -0.017806    ...    -0.015147 -0.008204   \n",
       "2012-11-05  0.006231 -0.014956  0.006673    ...     0.007405  0.003048   \n",
       "2012-11-06  0.006966  0.010754  0.005753    ...     0.016115 -0.002170   \n",
       "2012-11-07 -0.007686  0.003286 -0.036931    ...    -0.018920 -0.026098   \n",
       "2012-11-08 -0.006584 -0.010761  0.013815    ...    -0.033749 -0.014739   \n",
       "\n",
       "                 UNH       WMB       HCA       ETN      HOLX       ACN  \\\n",
       "Date                                                                     \n",
       "2012-11-02 -0.015803 -0.018403  0.021993 -0.007864 -0.007122 -0.013366   \n",
       "2012-11-05 -0.013738  0.004233  0.050864  0.026220 -0.000478 -0.000442   \n",
       "2012-11-06  0.020080  0.007528 -0.040335 -0.001386 -0.003349  0.012227   \n",
       "2012-11-07 -0.037773 -0.018231  0.094407 -0.017255 -0.023524 -0.030272   \n",
       "2012-11-08 -0.015112 -0.019787 -0.046972 -0.013522 -0.013274 -0.010206   \n",
       "\n",
       "               CMCSA       AZO  \n",
       "Date                            \n",
       "2012-11-02  0.001598  0.006757  \n",
       "2012-11-05 -0.004786  0.000836  \n",
       "2012-11-06 -0.006946  0.005297  \n",
       "2012-11-07 -0.015873 -0.002310  \n",
       "2012-11-08 -0.010388 -0.014049  \n",
       "\n",
       "[5 rows x 502 columns]"
      ]
     },
     "execution_count": 4,
     "metadata": {},
     "output_type": "execute_result"
    }
   ],
   "source": [
    "df.head()"
   ]
  },
  {
   "cell_type": "code",
   "execution_count": 5,
   "metadata": {},
   "outputs": [],
   "source": [
    "# Removing 22 Companies with larger missing values\n",
    "df = df[list(df.apply(lambda x: sum(x.isna())).sort_values(ascending=False)[23:].index)]"
   ]
  },
  {
   "cell_type": "code",
   "execution_count": 6,
   "metadata": {},
   "outputs": [],
   "source": [
    "df = df.dropna() # Removing na values in data"
   ]
  },
  {
   "cell_type": "markdown",
   "metadata": {},
   "source": [
    "## Gausian Mixture Model"
   ]
  },
  {
   "cell_type": "code",
   "execution_count": 7,
   "metadata": {},
   "outputs": [],
   "source": [
    "def clust(df, comp, cov_type):\n",
    "    gmix = GaussianMixture(n_components=comp,\n",
    "                           covariance_type=cov_type, # 'spherical', 'diag', 'tied', 'full'\n",
    "                           max_iter=25, \n",
    "                           random_state=0)\n",
    "\n",
    "    gmix.fit(df.T)\n",
    "\n",
    "    labels_gmix = gmix.predict(df.T)\n",
    "\n",
    "    return labels_gmix, gmix.bic(df.T)"
   ]
  },
  {
   "cell_type": "raw",
   "metadata": {},
   "source": [
    "l = []\n",
    "for i in range(1,25):\n",
    "    l.append(clust(df.T, i, 'tied')) # 'spherical', 'diag', 'tied', 'full'\n",
    "\n",
    "pd.DataFrame(l)[1].plot()"
   ]
  },
  {
   "cell_type": "code",
   "execution_count": 12,
   "metadata": {},
   "outputs": [],
   "source": [
    "labels = clust(df.T, 5, 'diag')"
   ]
  },
  {
   "cell_type": "code",
   "execution_count": 13,
   "metadata": {},
   "outputs": [
    {
     "data": {
      "text/plain": [
       "<matplotlib.axes._subplots.AxesSubplot at 0x7f491d199780>"
      ]
     },
     "execution_count": 13,
     "metadata": {},
     "output_type": "execute_result"
    },
    {
     "data": {
      "image/png": "[encoded data removed]",
      "text/plain": [
       "<matplotlib.figure.Figure at 0x7f491d199438>"
      ]
     },
     "metadata": {},
     "output_type": "display_data"
    }
   ],
   "source": [
    "df.groupby(labels[0]).count().iloc[:,1].plot(kind='bar')"
   ]
  },
  {
   "cell_type": "markdown",
   "metadata": {},
   "source": [
    "## SOM"
   ]
  },
  {
   "cell_type": "code",
   "execution_count": 16,
   "metadata": {},
   "outputs": [],
   "source": [
    "model = somsc(df.T.as_matrix(), 5)"
   ]
  },
  {
   "cell_type": "code",
   "execution_count": 17,
   "metadata": {},
   "outputs": [],
   "source": [
    "model.process()"
   ]
  },
  {
   "cell_type": "code",
   "execution_count": 23,
   "metadata": {},
   "outputs": [],
   "source": [
    "clusts = pd.DataFrame(model.get_clusters())"
   ]
  },
  {
   "cell_type": "code",
   "execution_count": 27,
   "metadata": {},
   "outputs": [
    {
     "data": {
      "text/plain": [
       "479"
      ]
     },
     "execution_count": 27,
     "metadata": {},
     "output_type": "execute_result"
    }
   ],
   "source": [
    "sum(clusts.apply(lambda x: x.count()))"
   ]
  },
  {
   "cell_type": "code",
   "execution_count": 30,
   "metadata": {},
   "outputs": [
    {
     "data": {
      "text/plain": [
       "<matplotlib.axes._subplots.AxesSubplot at 0x7f491822ce48>"
      ]
     },
     "execution_count": 30,
     "metadata": {},
     "output_type": "execute_result"
    },
    {
     "data": {
      "image/png": "[encoded data removed]",
      "text/plain": [
       "<matplotlib.figure.Figure at 0x7f4918276320>"
      ]
     },
     "metadata": {},
     "output_type": "display_data"
    }
   ],
   "source": [
    "clusts.apply(lambda x: x.count(), axis=1).plot(kind='bar')"
   ]
  },
  {
   "cell_type": "markdown",
   "metadata": {},
   "source": [
    "## Affinity Propagation"
   ]
  },
  {
   "cell_type": "code",
   "execution_count": 31,
   "metadata": {},
   "outputs": [],
   "source": [
    "from sklearn.cluster import AffinityPropagation"
   ]
  },
  {
   "cell_type": "code",
   "execution_count": 58,
   "metadata": {},
   "outputs": [
    {
     "data": {
      "text/plain": [
       "82"
      ]
     },
     "execution_count": 58,
     "metadata": {},
     "output_type": "execute_result"
    }
   ],
   "source": [
    "model = AffinityPropagation().fit(df.T)\n",
    "\n",
    "len(model.cluster_centers_indices_)"
   ]
  },
  {
   "cell_type": "code",
   "execution_count": 59,
   "metadata": {},
   "outputs": [
    {
     "data": {
      "text/plain": [
       "array([ 8, 70, 15,  8, 27,  8,  0, 63, 80, 12, 63,  1, 72,  8,  8,  8, 15,\n",
       "       80, 70, 72, 70, 80, 72, 80,  2,  3, 66,  8, 72, 15, 79,  8, 80,  4,\n",
       "       70, 80,  5, 27, 80,  8,  8, 69,  8, 15, 27, 63,  6, 80, 15,  8, 80,\n",
       "        7,  7,  7, 27, 63,  8, 80, 72, 80, 27, 27, 80, 38, 15,  8,  9, 77,\n",
       "        7, 63, 72,  8, 72, 39, 72, 80, 80, 15, 52, 15, 27, 10,  7,  8, 80,\n",
       "       11, 63, 27, 80, 12,  8, 27, 70, 15, 80, 15, 13, 14, 15, 38, 16, 80,\n",
       "       27, 52, 80, 80,  8, 80, 63, 80, 80, 79, 70,  8, 17,  7,  7, 80, 69,\n",
       "       72, 80, 18, 15, 15, 27, 27, 63, 27, 80,  8, 19,  8,  7, 27, 80,  8,\n",
       "       20, 21, 15, 80, 80, 80, 27,  8,  8, 15, 15, 15, 15, 80, 27, 80, 72,\n",
       "       22, 72, 27, 38, 72,  8, 27, 27,  7, 27, 80, 27, 23, 63, 80, 24, 25,\n",
       "       72,  7, 80, 27, 26, 63,  7, 80,  8, 80, 63, 27, 72, 80, 80, 80, 15,\n",
       "       28, 11, 27,  7, 29, 30, 15, 27,  8, 80,  8, 80, 63,  8, 80, 27, 80,\n",
       "       31,  8,  8, 32, 80, 15, 27,  3, 27, 80, 33, 34, 80, 15, 63, 80, 35,\n",
       "       36, 37, 72, 54, 63, 38,  7, 27, 15, 80,  7, 80, 80, 80,  8, 80, 27,\n",
       "        8,  8, 80, 72, 15, 80, 79, 15,  8, 39,  8, 63,  8, 63, 27, 72, 80,\n",
       "       40, 41, 80, 42,  6, 43, 44, 39, 27,  7, 80, 80, 27, 54, 27, 80, 80,\n",
       "       80, 80, 15, 70, 80, 45, 69, 38, 46, 80, 27, 79, 63, 63,  8, 27, 80,\n",
       "        8, 47,  8, 70, 48,  8, 80, 79, 27,  8,  7,  7, 49, 12, 52, 66, 50,\n",
       "       15, 80, 63, 80, 51, 79, 52, 80, 27, 63, 15, 39,  8, 53, 80, 54, 55,\n",
       "       56, 27,  8, 80, 72, 27,  8, 27, 57,  8, 80, 72,  8, 58, 63, 27, 72,\n",
       "       63, 80, 27, 80, 59, 47, 63,  8,  8, 54,  7, 38, 27, 72, 80, 60, 61,\n",
       "        8,  8, 81, 27, 27, 62, 80,  8, 72, 80, 63, 80,  7, 80, 80, 80, 27,\n",
       "       80, 72,  8, 15, 27, 27, 27, 64, 65, 80, 80,  3, 52, 81, 66, 27, 15,\n",
       "       27, 27, 27, 27, 27, 67, 80, 80,  7, 80,  7,  8, 27, 80, 56, 79,  8,\n",
       "       80, 27, 80, 27, 68, 27, 70,  8,  7, 15, 69, 70, 15, 27,  7,  7, 27,\n",
       "       15, 80, 71, 80,  7, 27, 80, 72,  8, 63, 80,  8, 80, 27, 72, 73, 79,\n",
       "        8, 80, 27, 80, 74, 75, 38, 76, 77, 80, 80, 78, 80, 27, 27, 63, 80,\n",
       "       54, 79, 80, 80, 80, 27,  9, 15, 27, 80, 72, 80, 80, 80, 80, 27, 81,\n",
       "        7, 27, 27])"
      ]
     },
     "execution_count": 59,
     "metadata": {},
     "output_type": "execute_result"
    }
   ],
   "source": [
    "model.labels_"
   ]
  },
  {
   "cell_type": "code",
   "execution_count": null,
   "metadata": {},
   "outputs": [],
   "source": []
  }
 ],
 "metadata": {
  "kernelspec": {
   "display_name": "Python 3",
   "language": "python",
   "name": "python3"
  },
  "language_info": {
   "codemirror_mode": {
    "name": "ipython",
    "version": 3
   },
   "file_extension": ".py",
   "mimetype": "text/x-python",
   "name": "python",
   "nbconvert_exporter": "python",
   "pygments_lexer": "ipython3",
   "version": "3.6.4"
  }
 },
 "nbformat": 4,
 "nbformat_minor": 2
}
