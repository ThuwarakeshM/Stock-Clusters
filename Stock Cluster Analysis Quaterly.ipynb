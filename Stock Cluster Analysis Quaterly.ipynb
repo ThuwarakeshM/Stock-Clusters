{
 "cells": [
  {
   "cell_type": "markdown",
   "metadata": {},
   "source": [
    "# S&P 500 Market Segmentation"
   ]
  },
  {
   "cell_type": "code",
   "execution_count": 34,
   "metadata": {},
   "outputs": [],
   "source": [
    "# Import Required Packages\n",
    "import pandas as pd\n",
    "import matplotlib.pyplot as plt\n",
    "%matplotlib inline"
   ]
  },
  {
   "cell_type": "markdown",
   "metadata": {},
   "source": [
    "## Data Preparation"
   ]
  },
  {
   "cell_type": "code",
   "execution_count": 35,
   "metadata": {},
   "outputs": [],
   "source": [
    "# Read the dataset, parsing dates\n",
    "df = pd.read_csv('data_quaterly.csv', index_col=0, parse_dates=['Date'])"
   ]
  },
  {
   "cell_type": "code",
   "execution_count": 36,
   "metadata": {},
   "outputs": [
    {
     "data": {
      "text/html": [
       "<div>\n",
       "<style scoped>\n",
       "    .dataframe tbody tr th:only-of-type {\n",
       "        vertical-align: middle;\n",
       "    }\n",
       "\n",
       "    .dataframe tbody tr th {\n",
       "        vertical-align: top;\n",
       "    }\n",
       "\n",
       "    .dataframe thead th {\n",
       "        text-align: right;\n",
       "    }\n",
       "</style>\n",
       "<table border=\"1\" class=\"dataframe\">\n",
       "  <thead>\n",
       "    <tr style=\"text-align: right;\">\n",
       "      <th></th>\n",
       "      <th>SNA</th>\n",
       "      <th>KO</th>\n",
       "      <th>WM</th>\n",
       "      <th>JEC</th>\n",
       "      <th>MRK</th>\n",
       "      <th>PSA</th>\n",
       "      <th>MYL</th>\n",
       "      <th>VTR</th>\n",
       "      <th>PH</th>\n",
       "      <th>NOV</th>\n",
       "      <th>...</th>\n",
       "      <th>GPS</th>\n",
       "      <th>CA</th>\n",
       "      <th>UNH</th>\n",
       "      <th>WMB</th>\n",
       "      <th>HCA</th>\n",
       "      <th>ETN</th>\n",
       "      <th>HOLX</th>\n",
       "      <th>ACN</th>\n",
       "      <th>CMCSA</th>\n",
       "      <th>AZO</th>\n",
       "    </tr>\n",
       "    <tr>\n",
       "      <th>Date</th>\n",
       "      <th></th>\n",
       "      <th></th>\n",
       "      <th></th>\n",
       "      <th></th>\n",
       "      <th></th>\n",
       "      <th></th>\n",
       "      <th></th>\n",
       "      <th></th>\n",
       "      <th></th>\n",
       "      <th></th>\n",
       "      <th></th>\n",
       "      <th></th>\n",
       "      <th></th>\n",
       "      <th></th>\n",
       "      <th></th>\n",
       "      <th></th>\n",
       "      <th></th>\n",
       "      <th></th>\n",
       "      <th></th>\n",
       "      <th></th>\n",
       "      <th></th>\n",
       "    </tr>\n",
       "  </thead>\n",
       "  <tbody>\n",
       "    <tr>\n",
       "      <th>2013-03-31</th>\n",
       "      <td>0.000506</td>\n",
       "      <td>0.001544</td>\n",
       "      <td>0.002299</td>\n",
       "      <td>0.004344</td>\n",
       "      <td>0.000662</td>\n",
       "      <td>0.000316</td>\n",
       "      <td>0.000773</td>\n",
       "      <td>0.002313</td>\n",
       "      <td>-0.000408</td>\n",
       "      <td>-0.000480</td>\n",
       "      <td>...</td>\n",
       "      <td>0.001643</td>\n",
       "      <td>0.000557</td>\n",
       "      <td>0.001071</td>\n",
       "      <td>0.001666</td>\n",
       "      <td>0.002107</td>\n",
       "      <td>0.001743</td>\n",
       "      <td>-0.000494</td>\n",
       "      <td>0.001766</td>\n",
       "      <td>0.000960</td>\n",
       "      <td>0.002755</td>\n",
       "    </tr>\n",
       "    <tr>\n",
       "      <th>2013-06-30</th>\n",
       "      <td>0.001359</td>\n",
       "      <td>-0.000060</td>\n",
       "      <td>0.000567</td>\n",
       "      <td>0.000077</td>\n",
       "      <td>0.000809</td>\n",
       "      <td>0.000086</td>\n",
       "      <td>0.001408</td>\n",
       "      <td>-0.000823</td>\n",
       "      <td>0.000753</td>\n",
       "      <td>-0.000177</td>\n",
       "      <td>...</td>\n",
       "      <td>0.003002</td>\n",
       "      <td>0.002275</td>\n",
       "      <td>0.002381</td>\n",
       "      <td>-0.002155</td>\n",
       "      <td>-0.001709</td>\n",
       "      <td>0.001467</td>\n",
       "      <td>-0.002474</td>\n",
       "      <td>-0.000587</td>\n",
       "      <td>-0.000042</td>\n",
       "      <td>0.001333</td>\n",
       "    </tr>\n",
       "    <tr>\n",
       "      <th>2013-09-30</th>\n",
       "      <td>0.001721</td>\n",
       "      <td>-0.000864</td>\n",
       "      <td>0.000384</td>\n",
       "      <td>0.000916</td>\n",
       "      <td>0.000400</td>\n",
       "      <td>0.000783</td>\n",
       "      <td>0.003341</td>\n",
       "      <td>-0.001787</td>\n",
       "      <td>0.002119</td>\n",
       "      <td>0.002010</td>\n",
       "      <td>...</td>\n",
       "      <td>-0.000498</td>\n",
       "      <td>0.000599</td>\n",
       "      <td>0.001473</td>\n",
       "      <td>0.001850</td>\n",
       "      <td>0.002775</td>\n",
       "      <td>0.000800</td>\n",
       "      <td>0.001222</td>\n",
       "      <td>0.000410</td>\n",
       "      <td>0.001304</td>\n",
       "      <td>0.000004</td>\n",
       "    </tr>\n",
       "    <tr>\n",
       "      <th>2013-12-31</th>\n",
       "      <td>0.001552</td>\n",
       "      <td>0.001385</td>\n",
       "      <td>0.001356</td>\n",
       "      <td>0.001329</td>\n",
       "      <td>0.000820</td>\n",
       "      <td>-0.000950</td>\n",
       "      <td>0.002111</td>\n",
       "      <td>-0.001028</td>\n",
       "      <td>0.002713</td>\n",
       "      <td>0.000343</td>\n",
       "      <td>...</td>\n",
       "      <td>-0.000311</td>\n",
       "      <td>0.002008</td>\n",
       "      <td>0.000871</td>\n",
       "      <td>0.001011</td>\n",
       "      <td>0.001835</td>\n",
       "      <td>0.001668</td>\n",
       "      <td>0.001410</td>\n",
       "      <td>0.001784</td>\n",
       "      <td>0.002272</td>\n",
       "      <td>0.001958</td>\n",
       "    </tr>\n",
       "    <tr>\n",
       "      <th>2014-03-31</th>\n",
       "      <td>0.000696</td>\n",
       "      <td>-0.001042</td>\n",
       "      <td>-0.001000</td>\n",
       "      <td>0.000199</td>\n",
       "      <td>0.002153</td>\n",
       "      <td>0.001878</td>\n",
       "      <td>0.002191</td>\n",
       "      <td>0.000986</td>\n",
       "      <td>-0.001071</td>\n",
       "      <td>-0.000279</td>\n",
       "      <td>...</td>\n",
       "      <td>0.000521</td>\n",
       "      <td>-0.001288</td>\n",
       "      <td>0.001477</td>\n",
       "      <td>0.000905</td>\n",
       "      <td>0.001669</td>\n",
       "      <td>-0.000124</td>\n",
       "      <td>-0.000539</td>\n",
       "      <td>-0.000420</td>\n",
       "      <td>-0.000528</td>\n",
       "      <td>0.001995</td>\n",
       "    </tr>\n",
       "  </tbody>\n",
       "</table>\n",
       "<p>5 rows × 481 columns</p>\n",
       "</div>"
      ],
      "text/plain": [
       "                 SNA        KO        WM       JEC       MRK       PSA  \\\n",
       "Date                                                                     \n",
       "2013-03-31  0.000506  0.001544  0.002299  0.004344  0.000662  0.000316   \n",
       "2013-06-30  0.001359 -0.000060  0.000567  0.000077  0.000809  0.000086   \n",
       "2013-09-30  0.001721 -0.000864  0.000384  0.000916  0.000400  0.000783   \n",
       "2013-12-31  0.001552  0.001385  0.001356  0.001329  0.000820 -0.000950   \n",
       "2014-03-31  0.000696 -0.001042 -0.001000  0.000199  0.002153  0.001878   \n",
       "\n",
       "                 MYL       VTR        PH       NOV    ...          GPS  \\\n",
       "Date                                                  ...                \n",
       "2013-03-31  0.000773  0.002313 -0.000408 -0.000480    ...     0.001643   \n",
       "2013-06-30  0.001408 -0.000823  0.000753 -0.000177    ...     0.003002   \n",
       "2013-09-30  0.003341 -0.001787  0.002119  0.002010    ...    -0.000498   \n",
       "2013-12-31  0.002111 -0.001028  0.002713  0.000343    ...    -0.000311   \n",
       "2014-03-31  0.002191  0.000986 -0.001071 -0.000279    ...     0.000521   \n",
       "\n",
       "                  CA       UNH       WMB       HCA       ETN      HOLX  \\\n",
       "Date                                                                     \n",
       "2013-03-31  0.000557  0.001071  0.001666  0.002107  0.001743 -0.000494   \n",
       "2013-06-30  0.002275  0.002381 -0.002155 -0.001709  0.001467 -0.002474   \n",
       "2013-09-30  0.000599  0.001473  0.001850  0.002775  0.000800  0.001222   \n",
       "2013-12-31  0.002008  0.000871  0.001011  0.001835  0.001668  0.001410   \n",
       "2014-03-31 -0.001288  0.001477  0.000905  0.001669 -0.000124 -0.000539   \n",
       "\n",
       "                 ACN     CMCSA       AZO  \n",
       "Date                                      \n",
       "2013-03-31  0.001766  0.000960  0.002755  \n",
       "2013-06-30 -0.000587 -0.000042  0.001333  \n",
       "2013-09-30  0.000410  0.001304  0.000004  \n",
       "2013-12-31  0.001784  0.002272  0.001958  \n",
       "2014-03-31 -0.000420 -0.000528  0.001995  \n",
       "\n",
       "[5 rows x 481 columns]"
      ]
     },
     "execution_count": 36,
     "metadata": {},
     "output_type": "execute_result"
    }
   ],
   "source": [
    "df.head() #Head Check"
   ]
  },
  {
   "cell_type": "code",
   "execution_count": 37,
   "metadata": {},
   "outputs": [
    {
     "data": {
      "text/html": [
       "<div>\n",
       "<style scoped>\n",
       "    .dataframe tbody tr th:only-of-type {\n",
       "        vertical-align: middle;\n",
       "    }\n",
       "\n",
       "    .dataframe tbody tr th {\n",
       "        vertical-align: top;\n",
       "    }\n",
       "\n",
       "    .dataframe thead th {\n",
       "        text-align: right;\n",
       "    }\n",
       "</style>\n",
       "<table border=\"1\" class=\"dataframe\">\n",
       "  <thead>\n",
       "    <tr style=\"text-align: right;\">\n",
       "      <th></th>\n",
       "      <th>SNA</th>\n",
       "      <th>KO</th>\n",
       "      <th>WM</th>\n",
       "      <th>JEC</th>\n",
       "      <th>MRK</th>\n",
       "      <th>PSA</th>\n",
       "      <th>MYL</th>\n",
       "      <th>VTR</th>\n",
       "      <th>PH</th>\n",
       "      <th>NOV</th>\n",
       "      <th>...</th>\n",
       "      <th>GPS</th>\n",
       "      <th>CA</th>\n",
       "      <th>UNH</th>\n",
       "      <th>WMB</th>\n",
       "      <th>HCA</th>\n",
       "      <th>ETN</th>\n",
       "      <th>HOLX</th>\n",
       "      <th>ACN</th>\n",
       "      <th>CMCSA</th>\n",
       "      <th>AZO</th>\n",
       "    </tr>\n",
       "  </thead>\n",
       "  <tbody>\n",
       "    <tr>\n",
       "      <th>count</th>\n",
       "      <td>20.000000</td>\n",
       "      <td>20.000000</td>\n",
       "      <td>20.000000</td>\n",
       "      <td>20.000000</td>\n",
       "      <td>20.000000</td>\n",
       "      <td>20.000000</td>\n",
       "      <td>20.000000</td>\n",
       "      <td>20.000000</td>\n",
       "      <td>20.000000</td>\n",
       "      <td>20.000000</td>\n",
       "      <td>...</td>\n",
       "      <td>20.000000</td>\n",
       "      <td>20.000000</td>\n",
       "      <td>20.000000</td>\n",
       "      <td>20.000000</td>\n",
       "      <td>20.000000</td>\n",
       "      <td>20.000000</td>\n",
       "      <td>20.000000</td>\n",
       "      <td>20.000000</td>\n",
       "      <td>20.000000</td>\n",
       "      <td>20.000000</td>\n",
       "    </tr>\n",
       "    <tr>\n",
       "      <th>mean</th>\n",
       "      <td>0.000726</td>\n",
       "      <td>0.000299</td>\n",
       "      <td>0.000845</td>\n",
       "      <td>0.000384</td>\n",
       "      <td>0.000084</td>\n",
       "      <td>0.000387</td>\n",
       "      <td>0.000656</td>\n",
       "      <td>0.000040</td>\n",
       "      <td>0.000653</td>\n",
       "      <td>-0.000386</td>\n",
       "      <td>...</td>\n",
       "      <td>-0.000106</td>\n",
       "      <td>0.000346</td>\n",
       "      <td>0.001323</td>\n",
       "      <td>0.000291</td>\n",
       "      <td>0.000701</td>\n",
       "      <td>0.000558</td>\n",
       "      <td>0.000508</td>\n",
       "      <td>0.000769</td>\n",
       "      <td>0.000487</td>\n",
       "      <td>0.000579</td>\n",
       "    </tr>\n",
       "    <tr>\n",
       "      <th>std</th>\n",
       "      <td>0.001159</td>\n",
       "      <td>0.000826</td>\n",
       "      <td>0.001145</td>\n",
       "      <td>0.001542</td>\n",
       "      <td>0.001694</td>\n",
       "      <td>0.001274</td>\n",
       "      <td>0.003232</td>\n",
       "      <td>0.001719</td>\n",
       "      <td>0.001559</td>\n",
       "      <td>0.001846</td>\n",
       "      <td>...</td>\n",
       "      <td>0.002692</td>\n",
       "      <td>0.001075</td>\n",
       "      <td>0.000967</td>\n",
       "      <td>0.003307</td>\n",
       "      <td>0.001843</td>\n",
       "      <td>0.001633</td>\n",
       "      <td>0.001736</td>\n",
       "      <td>0.000888</td>\n",
       "      <td>0.001068</td>\n",
       "      <td>0.001577</td>\n",
       "    </tr>\n",
       "    <tr>\n",
       "      <th>min</th>\n",
       "      <td>-0.001274</td>\n",
       "      <td>-0.001042</td>\n",
       "      <td>-0.002520</td>\n",
       "      <td>-0.002674</td>\n",
       "      <td>-0.006162</td>\n",
       "      <td>-0.001960</td>\n",
       "      <td>-0.007398</td>\n",
       "      <td>-0.003354</td>\n",
       "      <td>-0.002282</td>\n",
       "      <td>-0.004172</td>\n",
       "      <td>...</td>\n",
       "      <td>-0.005552</td>\n",
       "      <td>-0.001403</td>\n",
       "      <td>-0.000102</td>\n",
       "      <td>-0.006252</td>\n",
       "      <td>-0.002171</td>\n",
       "      <td>-0.003406</td>\n",
       "      <td>-0.003262</td>\n",
       "      <td>-0.000589</td>\n",
       "      <td>-0.002714</td>\n",
       "      <td>-0.003553</td>\n",
       "    </tr>\n",
       "    <tr>\n",
       "      <th>25%</th>\n",
       "      <td>-0.000214</td>\n",
       "      <td>-0.000273</td>\n",
       "      <td>0.000444</td>\n",
       "      <td>-0.000323</td>\n",
       "      <td>0.000079</td>\n",
       "      <td>-0.000542</td>\n",
       "      <td>-0.001744</td>\n",
       "      <td>-0.001071</td>\n",
       "      <td>-0.000559</td>\n",
       "      <td>-0.001693</td>\n",
       "      <td>...</td>\n",
       "      <td>-0.001573</td>\n",
       "      <td>-0.000420</td>\n",
       "      <td>0.000644</td>\n",
       "      <td>-0.001872</td>\n",
       "      <td>-0.000846</td>\n",
       "      <td>-0.000106</td>\n",
       "      <td>-0.000547</td>\n",
       "      <td>0.000220</td>\n",
       "      <td>-0.000063</td>\n",
       "      <td>-0.000186</td>\n",
       "    </tr>\n",
       "    <tr>\n",
       "      <th>50%</th>\n",
       "      <td>0.000715</td>\n",
       "      <td>0.000106</td>\n",
       "      <td>0.001021</td>\n",
       "      <td>0.000253</td>\n",
       "      <td>0.000384</td>\n",
       "      <td>0.000307</td>\n",
       "      <td>0.000884</td>\n",
       "      <td>-0.000061</td>\n",
       "      <td>0.000793</td>\n",
       "      <td>-0.000228</td>\n",
       "      <td>...</td>\n",
       "      <td>0.000449</td>\n",
       "      <td>0.000394</td>\n",
       "      <td>0.001272</td>\n",
       "      <td>0.000607</td>\n",
       "      <td>0.000679</td>\n",
       "      <td>0.000807</td>\n",
       "      <td>0.000987</td>\n",
       "      <td>0.000718</td>\n",
       "      <td>0.000704</td>\n",
       "      <td>0.000575</td>\n",
       "    </tr>\n",
       "    <tr>\n",
       "      <th>75%</th>\n",
       "      <td>0.001594</td>\n",
       "      <td>0.001010</td>\n",
       "      <td>0.001598</td>\n",
       "      <td>0.001209</td>\n",
       "      <td>0.000867</td>\n",
       "      <td>0.001272</td>\n",
       "      <td>0.002258</td>\n",
       "      <td>0.001013</td>\n",
       "      <td>0.002083</td>\n",
       "      <td>0.000789</td>\n",
       "      <td>...</td>\n",
       "      <td>0.001304</td>\n",
       "      <td>0.001251</td>\n",
       "      <td>0.002079</td>\n",
       "      <td>0.001903</td>\n",
       "      <td>0.002211</td>\n",
       "      <td>0.001637</td>\n",
       "      <td>0.001615</td>\n",
       "      <td>0.001455</td>\n",
       "      <td>0.001246</td>\n",
       "      <td>0.001724</td>\n",
       "    </tr>\n",
       "    <tr>\n",
       "      <th>max</th>\n",
       "      <td>0.002701</td>\n",
       "      <td>0.001544</td>\n",
       "      <td>0.002299</td>\n",
       "      <td>0.004344</td>\n",
       "      <td>0.002153</td>\n",
       "      <td>0.002515</td>\n",
       "      <td>0.007703</td>\n",
       "      <td>0.003426</td>\n",
       "      <td>0.002713</td>\n",
       "      <td>0.002620</td>\n",
       "      <td>...</td>\n",
       "      <td>0.004935</td>\n",
       "      <td>0.002275</td>\n",
       "      <td>0.003040</td>\n",
       "      <td>0.006157</td>\n",
       "      <td>0.003655</td>\n",
       "      <td>0.003170</td>\n",
       "      <td>0.003581</td>\n",
       "      <td>0.002494</td>\n",
       "      <td>0.002272</td>\n",
       "      <td>0.003095</td>\n",
       "    </tr>\n",
       "  </tbody>\n",
       "</table>\n",
       "<p>8 rows × 481 columns</p>\n",
       "</div>"
      ],
      "text/plain": [
       "             SNA         KO         WM        JEC        MRK        PSA  \\\n",
       "count  20.000000  20.000000  20.000000  20.000000  20.000000  20.000000   \n",
       "mean    0.000726   0.000299   0.000845   0.000384   0.000084   0.000387   \n",
       "std     0.001159   0.000826   0.001145   0.001542   0.001694   0.001274   \n",
       "min    -0.001274  -0.001042  -0.002520  -0.002674  -0.006162  -0.001960   \n",
       "25%    -0.000214  -0.000273   0.000444  -0.000323   0.000079  -0.000542   \n",
       "50%     0.000715   0.000106   0.001021   0.000253   0.000384   0.000307   \n",
       "75%     0.001594   0.001010   0.001598   0.001209   0.000867   0.001272   \n",
       "max     0.002701   0.001544   0.002299   0.004344   0.002153   0.002515   \n",
       "\n",
       "             MYL        VTR         PH        NOV    ...            GPS  \\\n",
       "count  20.000000  20.000000  20.000000  20.000000    ...      20.000000   \n",
       "mean    0.000656   0.000040   0.000653  -0.000386    ...      -0.000106   \n",
       "std     0.003232   0.001719   0.001559   0.001846    ...       0.002692   \n",
       "min    -0.007398  -0.003354  -0.002282  -0.004172    ...      -0.005552   \n",
       "25%    -0.001744  -0.001071  -0.000559  -0.001693    ...      -0.001573   \n",
       "50%     0.000884  -0.000061   0.000793  -0.000228    ...       0.000449   \n",
       "75%     0.002258   0.001013   0.002083   0.000789    ...       0.001304   \n",
       "max     0.007703   0.003426   0.002713   0.002620    ...       0.004935   \n",
       "\n",
       "              CA        UNH        WMB        HCA        ETN       HOLX  \\\n",
       "count  20.000000  20.000000  20.000000  20.000000  20.000000  20.000000   \n",
       "mean    0.000346   0.001323   0.000291   0.000701   0.000558   0.000508   \n",
       "std     0.001075   0.000967   0.003307   0.001843   0.001633   0.001736   \n",
       "min    -0.001403  -0.000102  -0.006252  -0.002171  -0.003406  -0.003262   \n",
       "25%    -0.000420   0.000644  -0.001872  -0.000846  -0.000106  -0.000547   \n",
       "50%     0.000394   0.001272   0.000607   0.000679   0.000807   0.000987   \n",
       "75%     0.001251   0.002079   0.001903   0.002211   0.001637   0.001615   \n",
       "max     0.002275   0.003040   0.006157   0.003655   0.003170   0.003581   \n",
       "\n",
       "             ACN      CMCSA        AZO  \n",
       "count  20.000000  20.000000  20.000000  \n",
       "mean    0.000769   0.000487   0.000579  \n",
       "std     0.000888   0.001068   0.001577  \n",
       "min    -0.000589  -0.002714  -0.003553  \n",
       "25%     0.000220  -0.000063  -0.000186  \n",
       "50%     0.000718   0.000704   0.000575  \n",
       "75%     0.001455   0.001246   0.001724  \n",
       "max     0.002494   0.002272   0.003095  \n",
       "\n",
       "[8 rows x 481 columns]"
      ]
     },
     "execution_count": 37,
     "metadata": {},
     "output_type": "execute_result"
    }
   ],
   "source": [
    "df.describe() # Description of the dataset"
   ]
  },
  {
   "cell_type": "raw",
   "metadata": {},
   "source": [
    "Some of the Columns do not have complete data\n",
    "In the next step we remove the incomplete data columns (Excluding some newer companies)"
   ]
  },
  {
   "cell_type": "code",
   "execution_count": 38,
   "metadata": {},
   "outputs": [
    {
     "data": {
      "text/plain": [
       "AZO      0\n",
       "ZBH      0\n",
       "XEL      0\n",
       "DTE      0\n",
       "MHK      0\n",
       "PRU      0\n",
       "JWN      0\n",
       "YUM      0\n",
       "ULTA     0\n",
       "SPG      0\n",
       "MTB      0\n",
       "NFX      0\n",
       "ESRX     0\n",
       "SRCL     0\n",
       "SBAC     0\n",
       "CBG      0\n",
       "NBL      0\n",
       "GGP      0\n",
       "CXO      0\n",
       "SBUX     0\n",
       "REG      0\n",
       "NLSN     0\n",
       "BCR      0\n",
       "ETR      0\n",
       "NKE      0\n",
       "WFC      0\n",
       "WLTW     0\n",
       "LEN      0\n",
       "SYMC     0\n",
       "CMA      0\n",
       "        ..\n",
       "GWW      0\n",
       "C        0\n",
       "DLR      0\n",
       "LLY      0\n",
       "AET      0\n",
       "TXN      0\n",
       "MMC      0\n",
       "HSIC     0\n",
       "CTL      0\n",
       "JPM      0\n",
       "PVH      0\n",
       "IR       0\n",
       "MKC      0\n",
       "GLW      0\n",
       "MCK      0\n",
       "RSG      0\n",
       "AES      0\n",
       "FIS      0\n",
       "ADM      0\n",
       "ECL      0\n",
       "A        0\n",
       "GOOGL    0\n",
       "AWK      0\n",
       "LYB      0\n",
       "VMC      0\n",
       "ALXN     0\n",
       "HD       0\n",
       "FTI      0\n",
       "D        0\n",
       "SNA      0\n",
       "Length: 481, dtype: int64"
      ]
     },
     "execution_count": 38,
     "metadata": {},
     "output_type": "execute_result"
    }
   ],
   "source": [
    "# Check for number of companies with larger missing values \n",
    "df.apply(lambda x: sum(x.isna())).sort_values(ascending=False) "
   ]
  },
  {
   "cell_type": "code",
   "execution_count": 39,
   "metadata": {},
   "outputs": [],
   "source": [
    "df = df.T # Transpose the dataset to make it a multivariate time series"
   ]
  },
  {
   "cell_type": "markdown",
   "metadata": {},
   "source": [
    "## 1. K-Means Clustering"
   ]
  },
  {
   "cell_type": "code",
   "execution_count": 40,
   "metadata": {},
   "outputs": [],
   "source": [
    "from sklearn.cluster import KMeans"
   ]
  },
  {
   "cell_type": "code",
   "execution_count": 41,
   "metadata": {},
   "outputs": [],
   "source": [
    "l = []"
   ]
  },
  {
   "cell_type": "code",
   "execution_count": 42,
   "metadata": {},
   "outputs": [],
   "source": [
    "for i in range(2,75):\n",
    "    model = KMeans(n_clusters=i).fit(df)\n",
    "    d = {\n",
    "        'model':model,\n",
    "        'ss': model.inertia_,\n",
    "        'nclusters': i,\n",
    "    }\n",
    "    l.append(d)"
   ]
  },
  {
   "cell_type": "code",
   "execution_count": 43,
   "metadata": {},
   "outputs": [],
   "source": [
    "elbow = [i['ss'] for i in l]\n",
    "elbow_ticks = [i['nclusters'] for i in l]\n",
    "ss = pd.Series(elbow, index=elbow_ticks)"
   ]
  },
  {
   "cell_type": "code",
   "execution_count": 44,
   "metadata": {
    "scrolled": true
   },
   "outputs": [
    {
     "data": {
      "text/plain": [
       "<matplotlib.axes._subplots.AxesSubplot at 0x1ef4cd0e4a8>"
      ]
     },
     "execution_count": 44,
     "metadata": {},
     "output_type": "execute_result"
    },
    {
     "data": {
      "image/png": "[encoded data removed]",
      "text/plain": [
       "<matplotlib.figure.Figure at 0x1ef4cd06518>"
      ]
     },
     "metadata": {},
     "output_type": "display_data"
    }
   ],
   "source": [
    "ss.plot()"
   ]
  },
  {
   "cell_type": "code",
   "execution_count": 45,
   "metadata": {},
   "outputs": [],
   "source": [
    "model = KMeans(n_clusters=5).fit(df)\n",
    "labels_kmeans_5 = model.labels_"
   ]
  },
  {
   "cell_type": "code",
   "execution_count": 46,
   "metadata": {},
   "outputs": [],
   "source": [
    "model = KMeans(n_clusters=10).fit(df)\n",
    "labels_kmeans_10 = model.labels_"
   ]
  },
  {
   "cell_type": "code",
   "execution_count": 47,
   "metadata": {},
   "outputs": [],
   "source": [
    "model = KMeans(n_clusters=15).fit(df)\n",
    "labels_kmeans_15 = model.labels_"
   ]
  },
  {
   "cell_type": "code",
   "execution_count": 48,
   "metadata": {},
   "outputs": [],
   "source": [
    "df['labels_kmeans_5'] = labels_kmeans_5\n",
    "df['labels_kmeans_10'] = labels_kmeans_10\n",
    "df['labels_kmeans_15'] = labels_kmeans_15"
   ]
  },
  {
   "cell_type": "markdown",
   "metadata": {},
   "source": [
    "## 2. Agglomorative (Hiarachical) Clustering"
   ]
  },
  {
   "cell_type": "code",
   "execution_count": 49,
   "metadata": {},
   "outputs": [],
   "source": [
    "from sklearn.cluster import AgglomerativeClustering"
   ]
  },
  {
   "cell_type": "code",
   "execution_count": 50,
   "metadata": {},
   "outputs": [],
   "source": [
    "model = AgglomerativeClustering(linkage='ward', n_clusters=5).fit(df)\n",
    "labels_agglomorative_ward_5 = model.labels_"
   ]
  },
  {
   "cell_type": "code",
   "execution_count": 51,
   "metadata": {},
   "outputs": [],
   "source": [
    "model = AgglomerativeClustering(linkage='ward', n_clusters=10).fit(df)\n",
    "labels_agglomorative_ward_10 = model.labels_"
   ]
  },
  {
   "cell_type": "code",
   "execution_count": 52,
   "metadata": {},
   "outputs": [],
   "source": [
    "model = AgglomerativeClustering(linkage='ward', n_clusters=15).fit(df)\n",
    "labels_agglomorative_ward_15 = model.labels_"
   ]
  },
  {
   "cell_type": "code",
   "execution_count": 53,
   "metadata": {},
   "outputs": [],
   "source": [
    "df['labels_agglomorative_ward_5']= labels_agglomorative_ward_5\n",
    "df['labels_agglomorative_ward_10'] = labels_agglomorative_ward_10\n",
    "df['labels_agglomorative_ward_15'] = labels_agglomorative_ward_15"
   ]
  },
  {
   "cell_type": "markdown",
   "metadata": {},
   "source": [
    "## 3. Gaussian Mixture Models"
   ]
  },
  {
   "cell_type": "code",
   "execution_count": 54,
   "metadata": {},
   "outputs": [],
   "source": [
    "from sklearn.mixture import GaussianMixture"
   ]
  },
  {
   "cell_type": "code",
   "execution_count": 55,
   "metadata": {},
   "outputs": [],
   "source": [
    "def clust(df, comp, cov_type):\n",
    "    gmix = GaussianMixture(n_components=comp,\n",
    "                           covariance_type=cov_type, # 'spherical', 'diag', 'tied', 'full'\n",
    "                           max_iter=25, \n",
    "                           random_state=0)\n",
    "\n",
    "    gmix.fit(df.T)\n",
    "\n",
    "    labels_gmix = gmix.predict(df.T)\n",
    "\n",
    "    return labels_gmix, gmix.bic(df.T)"
   ]
  },
  {
   "cell_type": "code",
   "execution_count": 56,
   "metadata": {
    "scrolled": true
   },
   "outputs": [
    {
     "data": {
      "text/plain": [
       "<matplotlib.axes._subplots.AxesSubplot at 0x1ef4cccc898>"
      ]
     },
     "execution_count": 56,
     "metadata": {},
     "output_type": "execute_result"
    },
    {
     "data": {
      "image/png": "[encoded data removed]",
      "text/plain": [
       "<matplotlib.figure.Figure at 0x1ef4cce0cf8>"
      ]
     },
     "metadata": {},
     "output_type": "display_data"
    }
   ],
   "source": [
    "l = []\n",
    "for i in range(1,25):\n",
    "    l.append(clust(df.T, i, 'spherical')) # 'spherical', 'diag', 'tied', 'full'\n",
    "l_spherical = l\n",
    "\n",
    "pd.DataFrame(l)[1].plot()"
   ]
  },
  {
   "cell_type": "raw",
   "metadata": {},
   "source": [
    "Optimal number of clusters = 8"
   ]
  },
  {
   "cell_type": "code",
   "execution_count": 57,
   "metadata": {
    "scrolled": true
   },
   "outputs": [
    {
     "data": {
      "text/plain": [
       "<matplotlib.axes._subplots.AxesSubplot at 0x1ef4cce0c88>"
      ]
     },
     "execution_count": 57,
     "metadata": {},
     "output_type": "execute_result"
    },
    {
     "data": {
      "image/png": "[encoded data removed]",
      "text/plain": [
       "<matplotlib.figure.Figure at 0x1ef4ccb1da0>"
      ]
     },
     "metadata": {},
     "output_type": "display_data"
    }
   ],
   "source": [
    "l = []\n",
    "for i in range(1,25):\n",
    "    l.append(clust(df.T, i, 'diag')) # 'spherical', 'diag', 'tied', 'full'\n",
    "l_diag = l\n",
    "    \n",
    "pd.DataFrame(l)[1].plot()"
   ]
  },
  {
   "cell_type": "raw",
   "metadata": {},
   "source": [
    "Optimal number of clusters = 4"
   ]
  },
  {
   "cell_type": "code",
   "execution_count": 58,
   "metadata": {
    "scrolled": true
   },
   "outputs": [
    {
     "data": {
      "text/plain": [
       "<matplotlib.axes._subplots.AxesSubplot at 0x1ef4cc85358>"
      ]
     },
     "execution_count": 58,
     "metadata": {},
     "output_type": "execute_result"
    },
    {
     "data": {
      "image/png": "[encoded data removed]",
      "text/plain": [
       "<matplotlib.figure.Figure at 0x1ef4ce3cb38>"
      ]
     },
     "metadata": {},
     "output_type": "display_data"
    }
   ],
   "source": [
    "l = []\n",
    "for i in range(1,25):\n",
    "    l.append(clust(df.T, i, 'tied')) # 'spherical', 'diag', 'tied', 'full'\n",
    "l_tied = l\n",
    "    \n",
    "pd.DataFrame(l)[1].plot()"
   ]
  },
  {
   "cell_type": "raw",
   "metadata": {},
   "source": [
    "NO optimal clusters found"
   ]
  },
  {
   "cell_type": "code",
   "execution_count": 59,
   "metadata": {
    "scrolled": true
   },
   "outputs": [
    {
     "data": {
      "text/plain": [
       "<matplotlib.axes._subplots.AxesSubplot at 0x1ef4ccad438>"
      ]
     },
     "execution_count": 59,
     "metadata": {},
     "output_type": "execute_result"
    },
    {
     "data": {
      "image/png": "[encoded data removed]",
      "text/plain": [
       "<matplotlib.figure.Figure at 0x1ef4ce04240>"
      ]
     },
     "metadata": {},
     "output_type": "display_data"
    }
   ],
   "source": [
    "l = []\n",
    "for i in range(1,25):\n",
    "    l.append(clust(df.T, i, 'full')) # 'spherical', 'diag', 'tied', 'full'\n",
    "l_full = l\n",
    "    \n",
    "pd.DataFrame(l)[1].plot()"
   ]
  },
  {
   "cell_type": "raw",
   "metadata": {},
   "source": [
    "NO optimal clusters found"
   ]
  },
  {
   "cell_type": "code",
   "execution_count": 60,
   "metadata": {},
   "outputs": [],
   "source": [
    "labels_gmm_diag_5 = clust(df.T, 5, 'diag')[0]\n",
    "labels_gmm_spherical_8 = clust(df.T, 8, 'spherical')[0]"
   ]
  },
  {
   "cell_type": "markdown",
   "metadata": {},
   "source": [
    "## 4. Self Organizing Maps"
   ]
  },
  {
   "cell_type": "code",
   "execution_count": 61,
   "metadata": {},
   "outputs": [],
   "source": [
    "from pyclustering.cluster.somsc import somsc"
   ]
  },
  {
   "cell_type": "code",
   "execution_count": 62,
   "metadata": {},
   "outputs": [],
   "source": [
    "model = somsc(df.as_matrix(), 5)\n",
    "model.process()"
   ]
  },
  {
   "cell_type": "code",
   "execution_count": 63,
   "metadata": {},
   "outputs": [],
   "source": [
    "clusts_som_5 = pd.DataFrame(model.get_clusters())\n",
    "\n",
    "model = somsc(df.as_matrix(), 10)\n",
    "model.process()\n",
    "clusts_som_10 = pd.DataFrame(model.get_clusters())\n",
    "\n",
    "model = somsc(df.as_matrix(), 15)\n",
    "model.process()\n",
    "clusts_som_15 = pd.DataFrame(model.get_clusters())"
   ]
  },
  {
   "cell_type": "code",
   "execution_count": null,
   "metadata": {},
   "outputs": [],
   "source": []
  }
 ],
 "metadata": {
  "kernelspec": {
   "display_name": "Python 3",
   "language": "python",
   "name": "python3"
  },
  "language_info": {
   "codemirror_mode": {
    "name": "ipython",
    "version": 3
   },
   "file_extension": ".py",
   "mimetype": "text/x-python",
   "name": "python",
   "nbconvert_exporter": "python",
   "pygments_lexer": "ipython3",
   "version": "3.6.4"
  }
 },
 "nbformat": 4,
 "nbformat_minor": 2
}
