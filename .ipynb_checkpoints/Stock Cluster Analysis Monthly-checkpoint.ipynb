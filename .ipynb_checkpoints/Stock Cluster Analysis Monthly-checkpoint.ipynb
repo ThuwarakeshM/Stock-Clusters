{
 "cells": [
  {
   "cell_type": "markdown",
   "metadata": {},
   "source": [
    "# S&P 500 Market Segmentation"
   ]
  },
  {
   "cell_type": "code",
   "execution_count": 128,
   "metadata": {},
   "outputs": [],
   "source": [
    "# Import Required Packages\n",
    "import pandas as pd\n",
    "import matplotlib.pyplot as plt\n",
    "%matplotlib inline"
   ]
  },
  {
   "cell_type": "markdown",
   "metadata": {},
   "source": [
    "## Data Preparation"
   ]
  },
  {
   "cell_type": "code",
   "execution_count": 129,
   "metadata": {},
   "outputs": [],
   "source": [
    "# Read the dataset, parsing dates\n",
    "df = pd.read_csv('data_monthly.csv', index_col=0, parse_dates=['Date'])"
   ]
  },
  {
   "cell_type": "code",
   "execution_count": 130,
   "metadata": {},
   "outputs": [
    {
     "data": {
      "text/html": [
       "<div>\n",
       "<style scoped>\n",
       "    .dataframe tbody tr th:only-of-type {\n",
       "        vertical-align: middle;\n",
       "    }\n",
       "\n",
       "    .dataframe tbody tr th {\n",
       "        vertical-align: top;\n",
       "    }\n",
       "\n",
       "    .dataframe thead th {\n",
       "        text-align: right;\n",
       "    }\n",
       "</style>\n",
       "<table border=\"1\" class=\"dataframe\">\n",
       "  <thead>\n",
       "    <tr style=\"text-align: right;\">\n",
       "      <th></th>\n",
       "      <th>SNA</th>\n",
       "      <th>KO</th>\n",
       "      <th>WM</th>\n",
       "      <th>JEC</th>\n",
       "      <th>MRK</th>\n",
       "      <th>PSA</th>\n",
       "      <th>MYL</th>\n",
       "      <th>VTR</th>\n",
       "      <th>PH</th>\n",
       "      <th>NOV</th>\n",
       "      <th>...</th>\n",
       "      <th>GPS</th>\n",
       "      <th>CA</th>\n",
       "      <th>UNH</th>\n",
       "      <th>WMB</th>\n",
       "      <th>HCA</th>\n",
       "      <th>ETN</th>\n",
       "      <th>HOLX</th>\n",
       "      <th>ACN</th>\n",
       "      <th>CMCSA</th>\n",
       "      <th>AZO</th>\n",
       "    </tr>\n",
       "    <tr>\n",
       "      <th>Date</th>\n",
       "      <th></th>\n",
       "      <th></th>\n",
       "      <th></th>\n",
       "      <th></th>\n",
       "      <th></th>\n",
       "      <th></th>\n",
       "      <th></th>\n",
       "      <th></th>\n",
       "      <th></th>\n",
       "      <th></th>\n",
       "      <th></th>\n",
       "      <th></th>\n",
       "      <th></th>\n",
       "      <th></th>\n",
       "      <th></th>\n",
       "      <th></th>\n",
       "      <th></th>\n",
       "      <th></th>\n",
       "      <th></th>\n",
       "      <th></th>\n",
       "      <th></th>\n",
       "    </tr>\n",
       "  </thead>\n",
       "  <tbody>\n",
       "    <tr>\n",
       "      <th>2013-01-31</th>\n",
       "      <td>0.000013</td>\n",
       "      <td>-0.001509</td>\n",
       "      <td>0.003999</td>\n",
       "      <td>0.005587</td>\n",
       "      <td>0.000828</td>\n",
       "      <td>0.003026</td>\n",
       "      <td>0.001214</td>\n",
       "      <td>0.001031</td>\n",
       "      <td>-0.000960</td>\n",
       "      <td>0.002372</td>\n",
       "      <td>...</td>\n",
       "      <td>-0.001018</td>\n",
       "      <td>0.001302</td>\n",
       "      <td>0.001549</td>\n",
       "      <td>0.001134</td>\n",
       "      <td>0.002532</td>\n",
       "      <td>0.000643</td>\n",
       "      <td>0.003395</td>\n",
       "      <td>0.003162</td>\n",
       "      <td>-0.006924</td>\n",
       "      <td>0.007079</td>\n",
       "    </tr>\n",
       "    <tr>\n",
       "      <th>2013-02-28</th>\n",
       "      <td>-0.000358</td>\n",
       "      <td>0.002135</td>\n",
       "      <td>0.001371</td>\n",
       "      <td>0.000873</td>\n",
       "      <td>-0.000558</td>\n",
       "      <td>-0.000904</td>\n",
       "      <td>0.002510</td>\n",
       "      <td>0.003495</td>\n",
       "      <td>0.000962</td>\n",
       "      <td>-0.004256</td>\n",
       "      <td>...</td>\n",
       "      <td>0.000550</td>\n",
       "      <td>-0.000620</td>\n",
       "      <td>-0.001611</td>\n",
       "      <td>-0.000438</td>\n",
       "      <td>-0.000697</td>\n",
       "      <td>0.004591</td>\n",
       "      <td>-0.004563</td>\n",
       "      <td>0.001840</td>\n",
       "      <td>0.002411</td>\n",
       "      <td>0.001551</td>\n",
       "    </tr>\n",
       "    <tr>\n",
       "      <th>2013-03-31</th>\n",
       "      <td>0.001524</td>\n",
       "      <td>0.002204</td>\n",
       "      <td>0.002502</td>\n",
       "      <td>0.007143</td>\n",
       "      <td>0.001754</td>\n",
       "      <td>0.000392</td>\n",
       "      <td>-0.001054</td>\n",
       "      <td>0.001703</td>\n",
       "      <td>-0.001490</td>\n",
       "      <td>0.001966</td>\n",
       "      <td>...</td>\n",
       "      <td>0.003746</td>\n",
       "      <td>0.001377</td>\n",
       "      <td>0.003428</td>\n",
       "      <td>0.003877</td>\n",
       "      <td>0.004602</td>\n",
       "      <td>-0.000521</td>\n",
       "      <td>0.001816</td>\n",
       "      <td>0.001138</td>\n",
       "      <td>0.002736</td>\n",
       "      <td>0.002169</td>\n",
       "    </tr>\n",
       "    <tr>\n",
       "      <th>2013-04-30</th>\n",
       "      <td>0.001975</td>\n",
       "      <td>0.002194</td>\n",
       "      <td>0.002067</td>\n",
       "      <td>-0.004707</td>\n",
       "      <td>0.002862</td>\n",
       "      <td>0.003677</td>\n",
       "      <td>0.000279</td>\n",
       "      <td>0.003860</td>\n",
       "      <td>-0.001407</td>\n",
       "      <td>-0.003550</td>\n",
       "      <td>...</td>\n",
       "      <td>0.003294</td>\n",
       "      <td>0.003204</td>\n",
       "      <td>0.002255</td>\n",
       "      <td>0.000897</td>\n",
       "      <td>-0.000546</td>\n",
       "      <td>0.000328</td>\n",
       "      <td>-0.004621</td>\n",
       "      <td>0.003264</td>\n",
       "      <td>-0.000676</td>\n",
       "      <td>0.001509</td>\n",
       "    </tr>\n",
       "    <tr>\n",
       "      <th>2013-05-31</th>\n",
       "      <td>0.002834</td>\n",
       "      <td>-0.002698</td>\n",
       "      <td>0.001325</td>\n",
       "      <td>0.006665</td>\n",
       "      <td>-0.000419</td>\n",
       "      <td>-0.004202</td>\n",
       "      <td>0.003010</td>\n",
       "      <td>-0.005459</td>\n",
       "      <td>0.005795</td>\n",
       "      <td>0.004071</td>\n",
       "      <td>...</td>\n",
       "      <td>0.004084</td>\n",
       "      <td>0.001099</td>\n",
       "      <td>0.002596</td>\n",
       "      <td>-0.003691</td>\n",
       "      <td>-0.000854</td>\n",
       "      <td>0.004128</td>\n",
       "      <td>0.000693</td>\n",
       "      <td>0.000757</td>\n",
       "      <td>-0.001368</td>\n",
       "      <td>0.000657</td>\n",
       "    </tr>\n",
       "  </tbody>\n",
       "</table>\n",
       "<p>5 rows × 481 columns</p>\n",
       "</div>"
      ],
      "text/plain": [
       "                 SNA        KO        WM       JEC       MRK       PSA  \\\n",
       "Date                                                                     \n",
       "2013-01-31  0.000013 -0.001509  0.003999  0.005587  0.000828  0.003026   \n",
       "2013-02-28 -0.000358  0.002135  0.001371  0.000873 -0.000558 -0.000904   \n",
       "2013-03-31  0.001524  0.002204  0.002502  0.007143  0.001754  0.000392   \n",
       "2013-04-30  0.001975  0.002194  0.002067 -0.004707  0.002862  0.003677   \n",
       "2013-05-31  0.002834 -0.002698  0.001325  0.006665 -0.000419 -0.004202   \n",
       "\n",
       "                 MYL       VTR        PH       NOV    ...          GPS  \\\n",
       "Date                                                  ...                \n",
       "2013-01-31  0.001214  0.001031 -0.000960  0.002372    ...    -0.001018   \n",
       "2013-02-28  0.002510  0.003495  0.000962 -0.004256    ...     0.000550   \n",
       "2013-03-31 -0.001054  0.001703 -0.001490  0.001966    ...     0.003746   \n",
       "2013-04-30  0.000279  0.003860 -0.001407 -0.003550    ...     0.003294   \n",
       "2013-05-31  0.003010 -0.005459  0.005795  0.004071    ...     0.004084   \n",
       "\n",
       "                  CA       UNH       WMB       HCA       ETN      HOLX  \\\n",
       "Date                                                                     \n",
       "2013-01-31  0.001302  0.001549  0.001134  0.002532  0.000643  0.003395   \n",
       "2013-02-28 -0.000620 -0.001611 -0.000438 -0.000697  0.004591 -0.004563   \n",
       "2013-03-31  0.001377  0.003428  0.003877  0.004602 -0.000521  0.001816   \n",
       "2013-04-30  0.003204  0.002255  0.000897 -0.000546  0.000328 -0.004621   \n",
       "2013-05-31  0.001099  0.002596 -0.003691 -0.000854  0.004128  0.000693   \n",
       "\n",
       "                 ACN     CMCSA       AZO  \n",
       "Date                                      \n",
       "2013-01-31  0.003162 -0.006924  0.007079  \n",
       "2013-02-28  0.001840  0.002411  0.001551  \n",
       "2013-03-31  0.001138  0.002736  0.002169  \n",
       "2013-04-30  0.003264 -0.000676  0.001509  \n",
       "2013-05-31  0.000757 -0.001368  0.000657  \n",
       "\n",
       "[5 rows x 481 columns]"
      ]
     },
     "execution_count": 130,
     "metadata": {},
     "output_type": "execute_result"
    }
   ],
   "source": [
    "df.head() #Head Check"
   ]
  },
  {
   "cell_type": "code",
   "execution_count": 131,
   "metadata": {},
   "outputs": [
    {
     "data": {
      "text/html": [
       "<div>\n",
       "<style scoped>\n",
       "    .dataframe tbody tr th:only-of-type {\n",
       "        vertical-align: middle;\n",
       "    }\n",
       "\n",
       "    .dataframe tbody tr th {\n",
       "        vertical-align: top;\n",
       "    }\n",
       "\n",
       "    .dataframe thead th {\n",
       "        text-align: right;\n",
       "    }\n",
       "</style>\n",
       "<table border=\"1\" class=\"dataframe\">\n",
       "  <thead>\n",
       "    <tr style=\"text-align: right;\">\n",
       "      <th></th>\n",
       "      <th>SNA</th>\n",
       "      <th>KO</th>\n",
       "      <th>WM</th>\n",
       "      <th>JEC</th>\n",
       "      <th>MRK</th>\n",
       "      <th>PSA</th>\n",
       "      <th>MYL</th>\n",
       "      <th>VTR</th>\n",
       "      <th>PH</th>\n",
       "      <th>NOV</th>\n",
       "      <th>...</th>\n",
       "      <th>GPS</th>\n",
       "      <th>CA</th>\n",
       "      <th>UNH</th>\n",
       "      <th>WMB</th>\n",
       "      <th>HCA</th>\n",
       "      <th>ETN</th>\n",
       "      <th>HOLX</th>\n",
       "      <th>ACN</th>\n",
       "      <th>CMCSA</th>\n",
       "      <th>AZO</th>\n",
       "    </tr>\n",
       "  </thead>\n",
       "  <tbody>\n",
       "    <tr>\n",
       "      <th>count</th>\n",
       "      <td>59.000000</td>\n",
       "      <td>59.000000</td>\n",
       "      <td>59.000000</td>\n",
       "      <td>59.000000</td>\n",
       "      <td>59.000000</td>\n",
       "      <td>59.000000</td>\n",
       "      <td>59.000000</td>\n",
       "      <td>59.000000</td>\n",
       "      <td>59.000000</td>\n",
       "      <td>59.000000</td>\n",
       "      <td>...</td>\n",
       "      <td>59.000000</td>\n",
       "      <td>59.000000</td>\n",
       "      <td>59.000000</td>\n",
       "      <td>59.000000</td>\n",
       "      <td>59.000000</td>\n",
       "      <td>59.000000</td>\n",
       "      <td>59.000000</td>\n",
       "      <td>59.000000</td>\n",
       "      <td>59.000000</td>\n",
       "      <td>59.000000</td>\n",
       "    </tr>\n",
       "    <tr>\n",
       "      <th>mean</th>\n",
       "      <td>0.000710</td>\n",
       "      <td>0.000198</td>\n",
       "      <td>0.000615</td>\n",
       "      <td>0.000431</td>\n",
       "      <td>0.000379</td>\n",
       "      <td>0.000401</td>\n",
       "      <td>0.000986</td>\n",
       "      <td>0.000121</td>\n",
       "      <td>0.000570</td>\n",
       "      <td>-0.000345</td>\n",
       "      <td>...</td>\n",
       "      <td>0.000111</td>\n",
       "      <td>0.000655</td>\n",
       "      <td>0.001213</td>\n",
       "      <td>0.000508</td>\n",
       "      <td>0.001004</td>\n",
       "      <td>0.000807</td>\n",
       "      <td>0.000647</td>\n",
       "      <td>0.000783</td>\n",
       "      <td>0.000542</td>\n",
       "      <td>0.000554</td>\n",
       "    </tr>\n",
       "    <tr>\n",
       "      <th>std</th>\n",
       "      <td>0.002279</td>\n",
       "      <td>0.001779</td>\n",
       "      <td>0.002564</td>\n",
       "      <td>0.003463</td>\n",
       "      <td>0.002271</td>\n",
       "      <td>0.002325</td>\n",
       "      <td>0.005988</td>\n",
       "      <td>0.003307</td>\n",
       "      <td>0.002741</td>\n",
       "      <td>0.003618</td>\n",
       "      <td>...</td>\n",
       "      <td>0.004790</td>\n",
       "      <td>0.002925</td>\n",
       "      <td>0.002156</td>\n",
       "      <td>0.004756</td>\n",
       "      <td>0.003306</td>\n",
       "      <td>0.003660</td>\n",
       "      <td>0.003156</td>\n",
       "      <td>0.002203</td>\n",
       "      <td>0.002537</td>\n",
       "      <td>0.002708</td>\n",
       "    </tr>\n",
       "    <tr>\n",
       "      <th>min</th>\n",
       "      <td>-0.005241</td>\n",
       "      <td>-0.004147</td>\n",
       "      <td>-0.013022</td>\n",
       "      <td>-0.007783</td>\n",
       "      <td>-0.006648</td>\n",
       "      <td>-0.004404</td>\n",
       "      <td>-0.009629</td>\n",
       "      <td>-0.013967</td>\n",
       "      <td>-0.005900</td>\n",
       "      <td>-0.008887</td>\n",
       "      <td>...</td>\n",
       "      <td>-0.011674</td>\n",
       "      <td>-0.004924</td>\n",
       "      <td>-0.004152</td>\n",
       "      <td>-0.014161</td>\n",
       "      <td>-0.005077</td>\n",
       "      <td>-0.005603</td>\n",
       "      <td>-0.006538</td>\n",
       "      <td>-0.006233</td>\n",
       "      <td>-0.006924</td>\n",
       "      <td>-0.007837</td>\n",
       "    </tr>\n",
       "    <tr>\n",
       "      <th>25%</th>\n",
       "      <td>-0.000459</td>\n",
       "      <td>-0.000642</td>\n",
       "      <td>-0.000164</td>\n",
       "      <td>-0.001768</td>\n",
       "      <td>-0.000828</td>\n",
       "      <td>-0.001416</td>\n",
       "      <td>-0.001811</td>\n",
       "      <td>-0.001735</td>\n",
       "      <td>-0.001073</td>\n",
       "      <td>-0.003092</td>\n",
       "      <td>...</td>\n",
       "      <td>-0.002751</td>\n",
       "      <td>-0.001004</td>\n",
       "      <td>-0.000113</td>\n",
       "      <td>-0.002752</td>\n",
       "      <td>-0.000845</td>\n",
       "      <td>-0.001385</td>\n",
       "      <td>-0.001647</td>\n",
       "      <td>-0.000657</td>\n",
       "      <td>-0.001041</td>\n",
       "      <td>-0.000793</td>\n",
       "    </tr>\n",
       "    <tr>\n",
       "      <th>50%</th>\n",
       "      <td>0.000610</td>\n",
       "      <td>0.000289</td>\n",
       "      <td>0.000680</td>\n",
       "      <td>-0.000082</td>\n",
       "      <td>0.000019</td>\n",
       "      <td>0.000089</td>\n",
       "      <td>0.000279</td>\n",
       "      <td>0.000086</td>\n",
       "      <td>0.000323</td>\n",
       "      <td>-0.000181</td>\n",
       "      <td>...</td>\n",
       "      <td>-0.000385</td>\n",
       "      <td>0.000321</td>\n",
       "      <td>0.001279</td>\n",
       "      <td>0.000897</td>\n",
       "      <td>0.000669</td>\n",
       "      <td>0.000643</td>\n",
       "      <td>0.000617</td>\n",
       "      <td>0.000757</td>\n",
       "      <td>0.001080</td>\n",
       "      <td>0.000657</td>\n",
       "    </tr>\n",
       "    <tr>\n",
       "      <th>75%</th>\n",
       "      <td>0.002004</td>\n",
       "      <td>0.001215</td>\n",
       "      <td>0.002245</td>\n",
       "      <td>0.002409</td>\n",
       "      <td>0.001928</td>\n",
       "      <td>0.002184</td>\n",
       "      <td>0.002770</td>\n",
       "      <td>0.002378</td>\n",
       "      <td>0.002772</td>\n",
       "      <td>0.001984</td>\n",
       "      <td>...</td>\n",
       "      <td>0.003091</td>\n",
       "      <td>0.001835</td>\n",
       "      <td>0.002650</td>\n",
       "      <td>0.002743</td>\n",
       "      <td>0.002556</td>\n",
       "      <td>0.002208</td>\n",
       "      <td>0.002230</td>\n",
       "      <td>0.002175</td>\n",
       "      <td>0.002066</td>\n",
       "      <td>0.002104</td>\n",
       "    </tr>\n",
       "    <tr>\n",
       "      <th>max</th>\n",
       "      <td>0.006193</td>\n",
       "      <td>0.003606</td>\n",
       "      <td>0.004972</td>\n",
       "      <td>0.010426</td>\n",
       "      <td>0.005037</td>\n",
       "      <td>0.004929</td>\n",
       "      <td>0.031924</td>\n",
       "      <td>0.005723</td>\n",
       "      <td>0.006997</td>\n",
       "      <td>0.008226</td>\n",
       "      <td>...</td>\n",
       "      <td>0.011473</td>\n",
       "      <td>0.016986</td>\n",
       "      <td>0.006484</td>\n",
       "      <td>0.011026</td>\n",
       "      <td>0.015598</td>\n",
       "      <td>0.018620</td>\n",
       "      <td>0.009247</td>\n",
       "      <td>0.006520</td>\n",
       "      <td>0.006248</td>\n",
       "      <td>0.007079</td>\n",
       "    </tr>\n",
       "  </tbody>\n",
       "</table>\n",
       "<p>8 rows × 481 columns</p>\n",
       "</div>"
      ],
      "text/plain": [
       "             SNA         KO         WM        JEC        MRK        PSA  \\\n",
       "count  59.000000  59.000000  59.000000  59.000000  59.000000  59.000000   \n",
       "mean    0.000710   0.000198   0.000615   0.000431   0.000379   0.000401   \n",
       "std     0.002279   0.001779   0.002564   0.003463   0.002271   0.002325   \n",
       "min    -0.005241  -0.004147  -0.013022  -0.007783  -0.006648  -0.004404   \n",
       "25%    -0.000459  -0.000642  -0.000164  -0.001768  -0.000828  -0.001416   \n",
       "50%     0.000610   0.000289   0.000680  -0.000082   0.000019   0.000089   \n",
       "75%     0.002004   0.001215   0.002245   0.002409   0.001928   0.002184   \n",
       "max     0.006193   0.003606   0.004972   0.010426   0.005037   0.004929   \n",
       "\n",
       "             MYL        VTR         PH        NOV    ...            GPS  \\\n",
       "count  59.000000  59.000000  59.000000  59.000000    ...      59.000000   \n",
       "mean    0.000986   0.000121   0.000570  -0.000345    ...       0.000111   \n",
       "std     0.005988   0.003307   0.002741   0.003618    ...       0.004790   \n",
       "min    -0.009629  -0.013967  -0.005900  -0.008887    ...      -0.011674   \n",
       "25%    -0.001811  -0.001735  -0.001073  -0.003092    ...      -0.002751   \n",
       "50%     0.000279   0.000086   0.000323  -0.000181    ...      -0.000385   \n",
       "75%     0.002770   0.002378   0.002772   0.001984    ...       0.003091   \n",
       "max     0.031924   0.005723   0.006997   0.008226    ...       0.011473   \n",
       "\n",
       "              CA        UNH        WMB        HCA        ETN       HOLX  \\\n",
       "count  59.000000  59.000000  59.000000  59.000000  59.000000  59.000000   \n",
       "mean    0.000655   0.001213   0.000508   0.001004   0.000807   0.000647   \n",
       "std     0.002925   0.002156   0.004756   0.003306   0.003660   0.003156   \n",
       "min    -0.004924  -0.004152  -0.014161  -0.005077  -0.005603  -0.006538   \n",
       "25%    -0.001004  -0.000113  -0.002752  -0.000845  -0.001385  -0.001647   \n",
       "50%     0.000321   0.001279   0.000897   0.000669   0.000643   0.000617   \n",
       "75%     0.001835   0.002650   0.002743   0.002556   0.002208   0.002230   \n",
       "max     0.016986   0.006484   0.011026   0.015598   0.018620   0.009247   \n",
       "\n",
       "             ACN      CMCSA        AZO  \n",
       "count  59.000000  59.000000  59.000000  \n",
       "mean    0.000783   0.000542   0.000554  \n",
       "std     0.002203   0.002537   0.002708  \n",
       "min    -0.006233  -0.006924  -0.007837  \n",
       "25%    -0.000657  -0.001041  -0.000793  \n",
       "50%     0.000757   0.001080   0.000657  \n",
       "75%     0.002175   0.002066   0.002104  \n",
       "max     0.006520   0.006248   0.007079  \n",
       "\n",
       "[8 rows x 481 columns]"
      ]
     },
     "execution_count": 131,
     "metadata": {},
     "output_type": "execute_result"
    }
   ],
   "source": [
    "df.describe() # Description of the dataset"
   ]
  },
  {
   "cell_type": "raw",
   "metadata": {},
   "source": [
    "Some of the Columns do not have complete data\n",
    "In the next step we remove the incomplete data columns (Excluding some newer companies)"
   ]
  },
  {
   "cell_type": "code",
   "execution_count": 132,
   "metadata": {},
   "outputs": [
    {
     "data": {
      "text/plain": [
       "AZO      0\n",
       "ZBH      0\n",
       "XEL      0\n",
       "DTE      0\n",
       "MHK      0\n",
       "PRU      0\n",
       "JWN      0\n",
       "YUM      0\n",
       "ULTA     0\n",
       "SPG      0\n",
       "MTB      0\n",
       "NFX      0\n",
       "ESRX     0\n",
       "SRCL     0\n",
       "SBAC     0\n",
       "CBG      0\n",
       "NBL      0\n",
       "GGP      0\n",
       "CXO      0\n",
       "SBUX     0\n",
       "REG      0\n",
       "NLSN     0\n",
       "BCR      0\n",
       "ETR      0\n",
       "NKE      0\n",
       "WFC      0\n",
       "WLTW     0\n",
       "LEN      0\n",
       "SYMC     0\n",
       "CMA      0\n",
       "        ..\n",
       "GWW      0\n",
       "C        0\n",
       "DLR      0\n",
       "LLY      0\n",
       "AET      0\n",
       "TXN      0\n",
       "MMC      0\n",
       "HSIC     0\n",
       "CTL      0\n",
       "JPM      0\n",
       "PVH      0\n",
       "IR       0\n",
       "MKC      0\n",
       "GLW      0\n",
       "MCK      0\n",
       "RSG      0\n",
       "AES      0\n",
       "FIS      0\n",
       "ADM      0\n",
       "ECL      0\n",
       "A        0\n",
       "GOOGL    0\n",
       "AWK      0\n",
       "LYB      0\n",
       "VMC      0\n",
       "ALXN     0\n",
       "HD       0\n",
       "FTI      0\n",
       "D        0\n",
       "SNA      0\n",
       "Length: 481, dtype: int64"
      ]
     },
     "execution_count": 132,
     "metadata": {},
     "output_type": "execute_result"
    }
   ],
   "source": [
    "# Check for number of companies with larger missing values \n",
    "df.apply(lambda x: sum(x.isna())).sort_values(ascending=False) "
   ]
  },
  {
   "cell_type": "code",
   "execution_count": 133,
   "metadata": {},
   "outputs": [],
   "source": [
    "df = df.T # Transpose the dataset to make it a multivariate time series"
   ]
  },
  {
   "cell_type": "markdown",
   "metadata": {},
   "source": [
    "## 1. K-Means Clustering"
   ]
  },
  {
   "cell_type": "code",
   "execution_count": 134,
   "metadata": {},
   "outputs": [],
   "source": [
    "from sklearn.cluster import KMeans"
   ]
  },
  {
   "cell_type": "code",
   "execution_count": 135,
   "metadata": {},
   "outputs": [],
   "source": [
    "l = []"
   ]
  },
  {
   "cell_type": "code",
   "execution_count": 136,
   "metadata": {},
   "outputs": [],
   "source": [
    "for i in range(2,75):\n",
    "    model = KMeans(n_clusters=i).fit(df)\n",
    "    d = {\n",
    "        'model':model,\n",
    "        'ss': model.inertia_,\n",
    "        'nclusters': i,\n",
    "    }\n",
    "    l.append(d)"
   ]
  },
  {
   "cell_type": "code",
   "execution_count": 137,
   "metadata": {},
   "outputs": [],
   "source": [
    "elbow = [i['ss'] for i in l]\n",
    "elbow_ticks = [i['nclusters'] for i in l]\n",
    "ss = pd.Series(elbow, index=elbow_ticks)"
   ]
  },
  {
   "cell_type": "code",
   "execution_count": 138,
   "metadata": {
    "scrolled": true
   },
   "outputs": [
    {
     "data": {
      "text/plain": [
       "<matplotlib.axes._subplots.AxesSubplot at 0x263b8d8e780>"
      ]
     },
     "execution_count": 138,
     "metadata": {},
     "output_type": "execute_result"
    },
    {
     "data": {
      "image/png": "[encoded data removed]",
      "text/plain": [
       "<matplotlib.figure.Figure at 0x263b8e20fd0>"
      ]
     },
     "metadata": {},
     "output_type": "display_data"
    }
   ],
   "source": [
    "ss.plot()"
   ]
  },
  {
   "cell_type": "code",
   "execution_count": 139,
   "metadata": {},
   "outputs": [],
   "source": [
    "model = KMeans(n_clusters=5).fit(df)\n",
    "labels_kmeans_5 = model.labels_"
   ]
  },
  {
   "cell_type": "code",
   "execution_count": 140,
   "metadata": {},
   "outputs": [],
   "source": [
    "model = KMeans(n_clusters=10).fit(df)\n",
    "labels_kmeans_10 = model.labels_"
   ]
  },
  {
   "cell_type": "code",
   "execution_count": 141,
   "metadata": {},
   "outputs": [],
   "source": [
    "model = KMeans(n_clusters=15).fit(df)\n",
    "labels_kmeans_15 = model.labels_"
   ]
  },
  {
   "cell_type": "code",
   "execution_count": 142,
   "metadata": {},
   "outputs": [],
   "source": [
    "df['labels_kmeans_5'] = labels_kmeans_5\n",
    "df['labels_kmeans_10'] = labels_kmeans_10\n",
    "df['labels_kmeans_15'] = labels_kmeans_15"
   ]
  },
  {
   "cell_type": "markdown",
   "metadata": {},
   "source": [
    "## 2. Agglomorative (Hiarachical) Clustering"
   ]
  },
  {
   "cell_type": "code",
   "execution_count": 143,
   "metadata": {},
   "outputs": [],
   "source": [
    "from sklearn.cluster import AgglomerativeClustering"
   ]
  },
  {
   "cell_type": "code",
   "execution_count": 144,
   "metadata": {},
   "outputs": [],
   "source": [
    "model = AgglomerativeClustering(linkage='ward', n_clusters=5).fit(df)\n",
    "labels_agglomorative_ward_5 = model.labels_"
   ]
  },
  {
   "cell_type": "code",
   "execution_count": 145,
   "metadata": {},
   "outputs": [],
   "source": [
    "model = AgglomerativeClustering(linkage='ward', n_clusters=10).fit(df)\n",
    "labels_agglomorative_ward_10 = model.labels_"
   ]
  },
  {
   "cell_type": "code",
   "execution_count": 146,
   "metadata": {},
   "outputs": [],
   "source": [
    "model = AgglomerativeClustering(linkage='ward', n_clusters=15).fit(df)\n",
    "labels_agglomorative_ward_15 = model.labels_"
   ]
  },
  {
   "cell_type": "code",
   "execution_count": 147,
   "metadata": {},
   "outputs": [],
   "source": [
    "df['labels_agglomorative_ward_5']= labels_agglomorative_ward_5\n",
    "df['labels_agglomorative_ward_10'] = labels_agglomorative_ward_10\n",
    "df['labels_agglomorative_ward_15'] = labels_agglomorative_ward_15"
   ]
  },
  {
   "cell_type": "markdown",
   "metadata": {},
   "source": [
    "## 3. Gaussian Mixture Models"
   ]
  },
  {
   "cell_type": "code",
   "execution_count": 148,
   "metadata": {},
   "outputs": [],
   "source": [
    "from sklearn.mixture import GaussianMixture"
   ]
  },
  {
   "cell_type": "code",
   "execution_count": 149,
   "metadata": {},
   "outputs": [],
   "source": [
    "def clust(df, comp, cov_type):\n",
    "    gmix = GaussianMixture(n_components=comp,\n",
    "                           covariance_type=cov_type, # 'spherical', 'diag', 'tied', 'full'\n",
    "                           max_iter=25, \n",
    "                           random_state=0)\n",
    "\n",
    "    gmix.fit(df.T)\n",
    "\n",
    "    labels_gmix = gmix.predict(df.T)\n",
    "\n",
    "    return labels_gmix, gmix.bic(df.T)"
   ]
  },
  {
   "cell_type": "code",
   "execution_count": 150,
   "metadata": {
    "scrolled": true
   },
   "outputs": [
    {
     "data": {
      "text/plain": [
       "<matplotlib.axes._subplots.AxesSubplot at 0x263b8e20550>"
      ]
     },
     "execution_count": 150,
     "metadata": {},
     "output_type": "execute_result"
    },
    {
     "data": {
      "image/png": "[encoded data removed]",
      "text/plain": [
       "<matplotlib.figure.Figure at 0x263b8d9ac18>"
      ]
     },
     "metadata": {},
     "output_type": "display_data"
    }
   ],
   "source": [
    "l = []\n",
    "for i in range(1,25):\n",
    "    l.append(clust(df.T, i, 'spherical')) # 'spherical', 'diag', 'tied', 'full'\n",
    "l_spherical = l\n",
    "\n",
    "pd.DataFrame(l)[1].plot()"
   ]
  },
  {
   "cell_type": "raw",
   "metadata": {},
   "source": [
    "Optimal number of clusters = 8"
   ]
  },
  {
   "cell_type": "code",
   "execution_count": 151,
   "metadata": {
    "scrolled": true
   },
   "outputs": [
    {
     "name": "stderr",
     "output_type": "stream",
     "text": [
      "E:\\Anaconda\\lib\\site-packages\\sklearn\\mixture\\base.py:237: ConvergenceWarning: Initialization 1 did not converge. Try different init parameters, or increase max_iter, tol or check for degenerate data.\n",
      "  % (init + 1), ConvergenceWarning)\n"
     ]
    },
    {
     "data": {
      "text/plain": [
       "<matplotlib.axes._subplots.AxesSubplot at 0x263b8e15c88>"
      ]
     },
     "execution_count": 151,
     "metadata": {},
     "output_type": "execute_result"
    },
    {
     "data": {
      "image/png": "[encoded data removed]",
      "text/plain": [
       "<matplotlib.figure.Figure at 0x263b8dd39e8>"
      ]
     },
     "metadata": {},
     "output_type": "display_data"
    }
   ],
   "source": [
    "l = []\n",
    "for i in range(1,25):\n",
    "    l.append(clust(df.T, i, 'diag')) # 'spherical', 'diag', 'tied', 'full'\n",
    "l_diag = l\n",
    "    \n",
    "pd.DataFrame(l)[1].plot()"
   ]
  },
  {
   "cell_type": "raw",
   "metadata": {},
   "source": [
    "Optimal number of clusters = 4"
   ]
  },
  {
   "cell_type": "code",
   "execution_count": 152,
   "metadata": {
    "scrolled": true
   },
   "outputs": [
    {
     "data": {
      "text/plain": [
       "<matplotlib.axes._subplots.AxesSubplot at 0x263b756dac8>"
      ]
     },
     "execution_count": 152,
     "metadata": {},
     "output_type": "execute_result"
    },
    {
     "data": {
      "image/png": "[encoded data removed]",
      "text/plain": [
       "<matplotlib.figure.Figure at 0x263b756f668>"
      ]
     },
     "metadata": {},
     "output_type": "display_data"
    }
   ],
   "source": [
    "l = []\n",
    "for i in range(1,25):\n",
    "    l.append(clust(df.T, i, 'tied')) # 'spherical', 'diag', 'tied', 'full'\n",
    "l_tied = l\n",
    "    \n",
    "pd.DataFrame(l)[1].plot()"
   ]
  },
  {
   "cell_type": "raw",
   "metadata": {},
   "source": [
    "NO optimal clusters found"
   ]
  },
  {
   "cell_type": "code",
   "execution_count": 153,
   "metadata": {
    "scrolled": true
   },
   "outputs": [
    {
     "data": {
      "text/plain": [
       "<matplotlib.axes._subplots.AxesSubplot at 0x263b7567048>"
      ]
     },
     "execution_count": 153,
     "metadata": {},
     "output_type": "execute_result"
    },
    {
     "data": {
      "image/png": "[encoded data removed]",
      "text/plain": [
       "<matplotlib.figure.Figure at 0x263b7558128>"
      ]
     },
     "metadata": {},
     "output_type": "display_data"
    }
   ],
   "source": [
    "l = []\n",
    "for i in range(1,25):\n",
    "    l.append(clust(df.T, i, 'full')) # 'spherical', 'diag', 'tied', 'full'\n",
    "l_full = l\n",
    "    \n",
    "pd.DataFrame(l)[1].plot()"
   ]
  },
  {
   "cell_type": "raw",
   "metadata": {},
   "source": [
    "NO optimal clusters found"
   ]
  },
  {
   "cell_type": "code",
   "execution_count": 154,
   "metadata": {},
   "outputs": [],
   "source": [
    "labels_gmm_diag_5 = clust(df.T, 5, 'diag')[0]\n",
    "labels_gmm_spherical_8 = clust(df.T, 8, 'spherical')[0]"
   ]
  },
  {
   "cell_type": "markdown",
   "metadata": {},
   "source": [
    "## 4. Self Organizing Maps"
   ]
  },
  {
   "cell_type": "code",
   "execution_count": 155,
   "metadata": {},
   "outputs": [],
   "source": [
    "from pyclustering.cluster.somsc import somsc"
   ]
  },
  {
   "cell_type": "code",
   "execution_count": 156,
   "metadata": {},
   "outputs": [],
   "source": [
    "model = somsc(df.as_matrix(), 5)\n",
    "model.process()"
   ]
  },
  {
   "cell_type": "code",
   "execution_count": 157,
   "metadata": {},
   "outputs": [],
   "source": [
    "clusts_som_5 = pd.DataFrame(model.get_clusters())\n",
    "\n",
    "model = somsc(df.as_matrix(), 10)\n",
    "model.process()\n",
    "clusts_som_10 = pd.DataFrame(model.get_clusters())\n",
    "\n",
    "model = somsc(df.as_matrix(), 15)\n",
    "model.process()\n",
    "clusts_som_15 = pd.DataFrame(model.get_clusters())"
   ]
  },
  {
   "cell_type": "code",
   "execution_count": null,
   "metadata": {},
   "outputs": [],
   "source": []
  }
 ],
 "metadata": {
  "kernelspec": {
   "display_name": "Python 3",
   "language": "python",
   "name": "python3"
  },
  "language_info": {
   "codemirror_mode": {
    "name": "ipython",
    "version": 3
   },
   "file_extension": ".py",
   "mimetype": "text/x-python",
   "name": "python",
   "nbconvert_exporter": "python",
   "pygments_lexer": "ipython3",
   "version": "3.6.4"
  }
 },
 "nbformat": 4,
 "nbformat_minor": 2
}
